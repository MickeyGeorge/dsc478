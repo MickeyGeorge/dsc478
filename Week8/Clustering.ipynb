{
 "cells": [
  {
   "cell_type": "markdown",
   "metadata": {},
   "source": [
    "#### We will use Boston Housing data to illustrate the use of clustering technqiues."
   ]
  },
  {
   "cell_type": "code",
   "execution_count": 1,
   "metadata": {
    "collapsed": true
   },
   "outputs": [],
   "source": [
    "import numpy as np\n",
    "import pylab as pl\n",
    "import pandas as pd\n",
    "from sklearn.cluster import KMeans \n",
    "from sklearn.datasets import load_boston\n",
    "boston = load_boston()"
   ]
  },
  {
   "cell_type": "code",
   "execution_count": 2,
   "metadata": {
    "collapsed": true
   },
   "outputs": [],
   "source": [
    "np.set_printoptions(suppress=True, precision=2, linewidth=120)"
   ]
  },
  {
   "cell_type": "code",
   "execution_count": 3,
   "metadata": {},
   "outputs": [
    {
     "name": "stdout",
     "output_type": "stream",
     "text": [
      "[[   0.01   18.      2.31    0.      0.54    6.58   65.2     4.09    1.    296.     15.3   396.9     4.98]\n",
      " [   0.03    0.      7.07    0.      0.47    6.42   78.9     4.97    2.    242.     17.8   396.9     9.14]]\n"
     ]
    }
   ],
   "source": [
    "print boston.data[:2]"
   ]
  },
  {
   "cell_type": "code",
   "execution_count": 4,
   "metadata": {},
   "outputs": [
    {
     "name": "stdout",
     "output_type": "stream",
     "text": [
      "[ 24.   21.6]\n"
     ]
    }
   ],
   "source": [
    "print boston.target[:2]"
   ]
  },
  {
   "cell_type": "markdown",
   "metadata": {},
   "source": [
    "#### There is no target attribute in unsupervised approaches to data mining. So, we can add back the target attribute (in this case it may be a useful variable for clustering)."
   ]
  },
  {
   "cell_type": "code",
   "execution_count": 5,
   "metadata": {
    "collapsed": true
   },
   "outputs": [],
   "source": [
    "x = np.array([np.concatenate((boston.data[i],[boston.target[i]])) for i in range(len(boston.data))])"
   ]
  },
  {
   "cell_type": "code",
   "execution_count": 6,
   "metadata": {},
   "outputs": [
    {
     "name": "stdout",
     "output_type": "stream",
     "text": [
      "[[   0.01   18.      2.31    0.      0.54    6.58   65.2     4.09    1.    296.     15.3   396.9     4.98   24.  ]\n",
      " [   0.03    0.      7.07    0.      0.47    6.42   78.9     4.97    2.    242.     17.8   396.9     9.14   21.6 ]]\n"
     ]
    }
   ],
   "source": [
    "print x[:2]"
   ]
  },
  {
   "cell_type": "markdown",
   "metadata": {},
   "source": [
    "#### Now we use KMeans algorithm of scikit-learn to perform the clustering."
   ]
  },
  {
   "cell_type": "code",
   "execution_count": 7,
   "metadata": {
    "collapsed": true
   },
   "outputs": [],
   "source": [
    "kmeans = KMeans(n_clusters=5, max_iter=500, verbose=1) # initialization"
   ]
  },
  {
   "cell_type": "code",
   "execution_count": 8,
   "metadata": {},
   "outputs": [
    {
     "name": "stdout",
     "output_type": "stream",
     "text": [
      "Initialization complete\n",
      "Iteration  0, inertia 1900863.047\n",
      "Iteration  1, inertia 1539103.044\n",
      "Iteration  2, inertia 1500857.955\n",
      "Iteration  3, inertia 1500414.923\n",
      "Converged at iteration 3\n",
      "Initialization complete\n",
      "Iteration  0, inertia 2111574.633\n",
      "Iteration  1, inertia 1558158.474\n",
      "Iteration  2, inertia 1508487.189\n",
      "Iteration  3, inertia 1500845.914\n",
      "Iteration  4, inertia 1500414.923\n",
      "Converged at iteration 4\n",
      "Initialization complete\n",
      "Iteration  0, inertia 2318898.681\n",
      "Iteration  1, inertia 1486232.443\n",
      "Iteration  2, inertia 1478189.279\n",
      "Iteration  3, inertia 1477901.691\n",
      "Iteration  4, inertia 1477608.702\n",
      "Iteration  5, inertia 1476992.206\n",
      "Iteration  6, inertia 1476845.860\n",
      "Iteration  7, inertia 1476759.615\n",
      "Converged at iteration 7\n",
      "Initialization complete\n",
      "Iteration  0, inertia 2415048.226\n",
      "Iteration  1, inertia 1485568.539\n",
      "Iteration  2, inertia 1478772.644\n",
      "Iteration  3, inertia 1477273.447\n",
      "Iteration  4, inertia 1476845.860\n",
      "Iteration  5, inertia 1476759.615\n",
      "Converged at iteration 5\n",
      "Initialization complete\n",
      "Iteration  0, inertia 2223438.015\n",
      "Iteration  1, inertia 1613892.614\n",
      "Iteration  2, inertia 1580902.019\n",
      "Iteration  3, inertia 1578911.364\n",
      "Iteration  4, inertia 1577973.587\n",
      "Iteration  5, inertia 1577004.521\n",
      "Iteration  6, inertia 1576658.891\n",
      "Iteration  7, inertia 1576314.292\n",
      "Iteration  8, inertia 1575901.982\n",
      "Converged at iteration 8\n",
      "Initialization complete\n",
      "Iteration  0, inertia 2022418.656\n",
      "Iteration  1, inertia 1501265.762\n",
      "Iteration  2, inertia 1500398.299\n",
      "Converged at iteration 2\n",
      "Initialization complete\n",
      "Iteration  0, inertia 1935063.234\n",
      "Iteration  1, inertia 1614998.959\n",
      "Iteration  2, inertia 1582743.884\n",
      "Iteration  3, inertia 1579764.283\n",
      "Converged at iteration 3\n",
      "Initialization complete\n",
      "Iteration  0, inertia 2688036.262\n",
      "Iteration  1, inertia 1708267.677\n",
      "Iteration  2, inertia 1703847.033\n",
      "Converged at iteration 2\n",
      "Initialization complete\n",
      "Iteration  0, inertia 2013127.282\n",
      "Iteration  1, inertia 1580979.688\n",
      "Iteration  2, inertia 1580127.664\n",
      "Iteration  3, inertia 1579942.130\n",
      "Iteration  4, inertia 1579764.283\n",
      "Converged at iteration 4\n",
      "Initialization complete\n",
      "Iteration  0, inertia 3196687.119\n",
      "Iteration  1, inertia 1491528.404\n",
      "Iteration  2, inertia 1478347.808\n",
      "Iteration  3, inertia 1476696.777\n",
      "Converged at iteration 3\n"
     ]
    },
    {
     "data": {
      "text/plain": [
       "KMeans(copy_x=True, init='k-means++', max_iter=500, n_clusters=5, n_init=10,\n",
       "    n_jobs=1, precompute_distances='auto', random_state=None, tol=0.0001,\n",
       "    verbose=1)"
      ]
     },
     "execution_count": 8,
     "metadata": {},
     "output_type": "execute_result"
    }
   ],
   "source": [
    "kmeans.fit(x)"
   ]
  },
  {
   "cell_type": "code",
   "execution_count": 9,
   "metadata": {
    "collapsed": true
   },
   "outputs": [],
   "source": [
    "clusters = kmeans.predict(x)"
   ]
  },
  {
   "cell_type": "code",
   "execution_count": 10,
   "metadata": {},
   "outputs": [
    {
     "name": "stdout",
     "output_type": "stream",
     "text": [
      "[2 2 2 2 2 2 2 2 2 2 2 2 2 2 2 2 2 2 2 2 2 2 2 2 2 2 2 2 2 2 2 2 4 2 4 2 2 2 2 2 2 2 2 2 2 2 2 2 2 2 2 2 2 2 0 2 2 2 2 2\n",
      " 2 2 2 2 2 2 2 0 0 0 2 2 2 2 0 0 0 0 0 0 2 2 2 2 2 2 2 2 2 2 2 2 2 2 2 2 2 2 2 2 0 0 4 0 0 0 0 0 0 0 0 0 0 0 0 0 0 0 0 0\n",
      " 2 2 2 2 2 2 2 0 0 0 0 0 0 0 4 0 0 0 0 0 0 0 0 0 0 4 4 0 0 0 0 0 0 4 0 4 4 0 0 0 0 0 0 0 0 4 0 4 0 0 0 0 2 2 2 2 2 2 2 2\n",
      " 2 2 2 2 2 2 2 0 0 0 0 0 0 2 2 2 2 2 2 0 0 0 0 2 2 2 2 2 2 2 2 2 2 2 2 2 2 2 2 2 2 2 2 2 2 2 2 2 2 2 2 2 2 2 2 2 2 2 2 2\n",
      " 2 2 2 2 2 2 2 2 2 2 2 2 2 2 2 2 2 2 2 2 2 2 2 2 2 2 2 2 2 2 2 2 2 2 2 2 2 2 2 2 2 2 2 2 2 2 2 2 2 2 2 2 2 2 2 2 2 2 0 0\n",
      " 0 2 2 2 2 2 2 2 2 2 2 2 2 2 2 2 2 2 2 2 2 2 2 2 2 2 2 2 0 0 0 2 2 2 2 2 2 2 2 2 2 2 0 0 0 0 0 0 2 2 2 0 0 2 2 2 1 1 1 1\n",
      " 1 1 1 1 1 1 1 3 1 1 1 1 1 1 1 1 1 1 1 1 1 1 1 1 1 1 1 1 1 1 1 1 1 1 1 1 1 1 1 1 1 1 1 1 1 1 1 1 1 3 3 3 3 1 3 3 3 3 3 3\n",
      " 1 1 1 3 3 3 3 3 3 3 3 3 3 3 3 3 3 3 3 1 1 1 1 1 1 3 1 1 1 1 3 1 1 1 3 3 3 3 1 1 1 1 1 1 1 1 3 1 1 1 1 1 1 1 1 1 1 1 1 1\n",
      " 1 1 1 1 1 1 1 1 1 1 1 1 1 0 0 0 0 0 0 0 0 2 2 2 2 2]\n"
     ]
    }
   ],
   "source": [
    "print clusters"
   ]
  },
  {
   "cell_type": "markdown",
   "metadata": {},
   "source": [
    "#### The centroids provide an aggregate representation and a characterization of each cluster."
   ]
  },
  {
   "cell_type": "code",
   "execution_count": 15,
   "metadata": {},
   "outputs": [
    {
     "name": "stdout",
     "output_type": "stream",
     "text": [
      "['CRIM' 'ZN' 'INDUS' 'CHAS' 'NOX' 'RM' 'AGE' 'DIS' 'RAD' 'TAX' 'PTRATIO' 'B' 'LSTAT']\n",
      "[[   0.62   12.88   12.03    0.06    0.56    6.21   69.25    3.63    4.73  402.31   17.76  382.25   12.18   22.75]\n",
      " [  11.08    0.     18.57    0.08    0.67    5.97   90.01    2.07   23.03  668.18   20.2   370.24   17.9    17.42]\n",
      " [   0.24   17.26    6.71    0.08    0.48    6.47   56.07    4.84    4.34  274.69   17.86  388.78    9.47   25.98]\n",
      " [  15.69   -0.     18.1     0.      0.67    6.1    89.84    2.     24.    666.     20.2    51.1    21.03   12.8 ]\n",
      " [   1.96    0.     16.71    0.09    0.71    5.92   91.82    2.32    4.73  386.91   17.    187.55   17.21   17.02]]\n"
     ]
    }
   ],
   "source": [
    "print boston.feature_names\n",
    "print kmeans.cluster_centers_"
   ]
  },
  {
   "cell_type": "markdown",
   "metadata": {},
   "source": [
    "#### Now, let's look at the Iris Data set [See Description]:"
   ]
  },
  {
   "cell_type": "code",
   "execution_count": 16,
   "metadata": {
    "collapsed": true
   },
   "outputs": [],
   "source": [
    "from sklearn.datasets import load_iris\n",
    "iris = load_iris()"
   ]
  },
  {
   "cell_type": "code",
   "execution_count": 17,
   "metadata": {
    "scrolled": true
   },
   "outputs": [
    {
     "name": "stdout",
     "output_type": "stream",
     "text": [
      "Iris Plants Database\n",
      "\n",
      "Notes\n",
      "-----\n",
      "Data Set Characteristics:\n",
      "    :Number of Instances: 150 (50 in each of three classes)\n",
      "    :Number of Attributes: 4 numeric, predictive attributes and the class\n",
      "    :Attribute Information:\n",
      "        - sepal length in cm\n",
      "        - sepal width in cm\n",
      "        - petal length in cm\n",
      "        - petal width in cm\n",
      "        - class:\n",
      "                - Iris-Setosa\n",
      "                - Iris-Versicolour\n",
      "                - Iris-Virginica\n",
      "    :Summary Statistics:\n",
      "\n",
      "    ============== ==== ==== ======= ===== ====================\n",
      "                    Min  Max   Mean    SD   Class Correlation\n",
      "    ============== ==== ==== ======= ===== ====================\n",
      "    sepal length:   4.3  7.9   5.84   0.83    0.7826\n",
      "    sepal width:    2.0  4.4   3.05   0.43   -0.4194\n",
      "    petal length:   1.0  6.9   3.76   1.76    0.9490  (high!)\n",
      "    petal width:    0.1  2.5   1.20  0.76     0.9565  (high!)\n",
      "    ============== ==== ==== ======= ===== ====================\n",
      "\n",
      "    :Missing Attribute Values: None\n",
      "    :Class Distribution: 33.3% for each of 3 classes.\n",
      "    :Creator: R.A. Fisher\n",
      "    :Donor: Michael Marshall (MARSHALL%PLU@io.arc.nasa.gov)\n",
      "    :Date: July, 1988\n",
      "\n",
      "This is a copy of UCI ML iris datasets.\n",
      "http://archive.ics.uci.edu/ml/datasets/Iris\n",
      "\n",
      "The famous Iris database, first used by Sir R.A Fisher\n",
      "\n",
      "This is perhaps the best known database to be found in the\n",
      "pattern recognition literature.  Fisher's paper is a classic in the field and\n",
      "is referenced frequently to this day.  (See Duda & Hart, for example.)  The\n",
      "data set contains 3 classes of 50 instances each, where each class refers to a\n",
      "type of iris plant.  One class is linearly separable from the other 2; the\n",
      "latter are NOT linearly separable from each other.\n",
      "\n",
      "References\n",
      "----------\n",
      "   - Fisher,R.A. \"The use of multiple measurements in taxonomic problems\"\n",
      "     Annual Eugenics, 7, Part II, 179-188 (1936); also in \"Contributions to\n",
      "     Mathematical Statistics\" (John Wiley, NY, 1950).\n",
      "   - Duda,R.O., & Hart,P.E. (1973) Pattern Classification and Scene Analysis.\n",
      "     (Q327.D83) John Wiley & Sons.  ISBN 0-471-22361-1.  See page 218.\n",
      "   - Dasarathy, B.V. (1980) \"Nosing Around the Neighborhood: A New System\n",
      "     Structure and Classification Rule for Recognition in Partially Exposed\n",
      "     Environments\".  IEEE Transactions on Pattern Analysis and Machine\n",
      "     Intelligence, Vol. PAMI-2, No. 1, 67-71.\n",
      "   - Gates, G.W. (1972) \"The Reduced Nearest Neighbor Rule\".  IEEE Transactions\n",
      "     on Information Theory, May 1972, 431-433.\n",
      "   - See also: 1988 MLC Proceedings, 54-64.  Cheeseman et al\"s AUTOCLASS II\n",
      "     conceptual clustering system finds 3 classes in the data.\n",
      "   - Many, many more ...\n",
      "\n"
     ]
    }
   ],
   "source": [
    "print iris.DESCR"
   ]
  },
  {
   "cell_type": "code",
   "execution_count": 18,
   "metadata": {
    "collapsed": true
   },
   "outputs": [],
   "source": [
    "data = iris.data\n",
    "target = iris.target"
   ]
  },
  {
   "cell_type": "code",
   "execution_count": 19,
   "metadata": {},
   "outputs": [
    {
     "name": "stdout",
     "output_type": "stream",
     "text": [
      "['sepal length (cm)', 'sepal width (cm)', 'petal length (cm)', 'petal width (cm)']\n"
     ]
    }
   ],
   "source": [
    "print iris.feature_names"
   ]
  },
  {
   "cell_type": "code",
   "execution_count": 20,
   "metadata": {},
   "outputs": [
    {
     "name": "stdout",
     "output_type": "stream",
     "text": [
      "[[ 5.1  3.5  1.4  0.2]\n",
      " [ 4.9  3.   1.4  0.2]\n",
      " [ 4.7  3.2  1.3  0.2]\n",
      " [ 4.6  3.1  1.5  0.2]\n",
      " [ 5.   3.6  1.4  0.2]\n",
      " [ 5.4  3.9  1.7  0.4]\n",
      " [ 4.6  3.4  1.4  0.3]\n",
      " [ 5.   3.4  1.5  0.2]\n",
      " [ 4.4  2.9  1.4  0.2]\n",
      " [ 4.9  3.1  1.5  0.1]]\n"
     ]
    }
   ],
   "source": [
    "print iris.data[:10]"
   ]
  },
  {
   "cell_type": "code",
   "execution_count": 21,
   "metadata": {},
   "outputs": [
    {
     "name": "stdout",
     "output_type": "stream",
     "text": [
      "[0 0 0 0 0 0 0 0 0 0 0 0 0 0 0 0 0 0 0 0 0 0 0 0 0 0 0 0 0 0 0 0 0 0 0 0 0 0 0 0 0 0 0 0 0 0 0 0 0 0 1 1 1 1 1 1 1 1 1 1\n",
      " 1 1 1 1 1 1 1 1 1 1 1 1 1 1 1 1 1 1 1 1 1 1 1 1 1 1 1 1 1 1 1 1 1 1 1 1 1 1 1 1 2 2 2 2 2 2 2 2 2 2 2 2 2 2 2 2 2 2 2 2\n",
      " 2 2 2 2 2 2 2 2 2 2 2 2 2 2 2 2 2 2 2 2 2 2 2 2 2 2 2 2 2 2]\n"
     ]
    }
   ],
   "source": [
    "print iris.target[:150]"
   ]
  },
  {
   "cell_type": "code",
   "execution_count": 22,
   "metadata": {},
   "outputs": [
    {
     "name": "stdout",
     "output_type": "stream",
     "text": [
      "set([0, 1, 2])\n"
     ]
    }
   ],
   "source": [
    "print set(target) # build a collection of unique elements"
   ]
  },
  {
   "cell_type": "markdown",
   "metadata": {},
   "source": [
    "#### This snippet uses the first and the third dimension (sepal length and sepal width) and the result is shown in the following figure. \n",
    "#### Classes:  0 = Iris-Setosa,  1 = Iris-Versicolour,  2 = Iris-Virginica"
   ]
  },
  {
   "cell_type": "code",
   "execution_count": 23,
   "metadata": {},
   "outputs": [
    {
     "data": {
      "image/png": "[encoded data removed]",
      "text/plain": [
       "<matplotlib.figure.Figure at 0xc3cbf60>"
      ]
     },
     "metadata": {},
     "output_type": "display_data"
    }
   ],
   "source": [
    "pl.plot(data[target==0,0],data[target==0,2],'bo')\n",
    "pl.plot(data[target==1,0],data[target==1,2],'ro')\n",
    "pl.plot(data[target==2,0],data[target==2,2],'go')\n",
    "pl.legend(('Iris-Setosa', 'Iris-Versicolour', 'Iris-Virginica'), loc=4)\n",
    "pl.show()"
   ]
  },
  {
   "cell_type": "markdown",
   "metadata": {},
   "source": [
    "#### In the graph we have 150 points and their color represents the class; the blue points represent the samples that belong to the specie setosa, the red ones represent versicolor and the green ones represent virginica. Next let's see if through clustering we can obtain the correct classes."
   ]
  },
  {
   "cell_type": "code",
   "execution_count": 24,
   "metadata": {},
   "outputs": [
    {
     "name": "stdout",
     "output_type": "stream",
     "text": [
      "Initialization complete\n",
      "Iteration  0, inertia 107.660\n",
      "Iteration  1, inertia 79.204\n",
      "Iteration  2, inertia 78.941\n",
      "Converged at iteration 2\n",
      "Initialization complete\n",
      "Iteration  0, inertia 133.340\n",
      "Iteration  1, inertia 79.754\n",
      "Iteration  2, inertia 78.941\n",
      "Converged at iteration 2\n",
      "Initialization complete\n",
      "Iteration  0, inertia 155.380\n",
      "Iteration  1, inertia 86.409\n",
      "Iteration  2, inertia 84.355\n",
      "Iteration  3, inertia 83.480\n",
      "Iteration  4, inertia 82.094\n",
      "Iteration  5, inertia 81.170\n",
      "Iteration  6, inertia 79.963\n",
      "Iteration  7, inertia 79.434\n",
      "Iteration  8, inertia 79.011\n",
      "Iteration  9, inertia 78.945\n",
      "Converged at iteration 9\n",
      "Initialization complete\n",
      "Iteration  0, inertia 126.550\n",
      "Iteration  1, inertia 80.452\n",
      "Iteration  2, inertia 78.945\n",
      "Converged at iteration 2\n",
      "Initialization complete\n",
      "Iteration  0, inertia 104.010\n",
      "Iteration  1, inertia 79.007\n",
      "Iteration  2, inertia 78.941\n",
      "Converged at iteration 2\n"
     ]
    },
    {
     "data": {
      "text/plain": [
       "KMeans(copy_x=True, init='k-means++', max_iter=500, n_clusters=3, n_init=5,\n",
       "    n_jobs=1, precompute_distances='auto', random_state=None, tol=0.0001,\n",
       "    verbose=1)"
      ]
     },
     "execution_count": 24,
     "metadata": {},
     "output_type": "execute_result"
    }
   ],
   "source": [
    "iris_kmeans = KMeans(n_clusters=3, max_iter=500, verbose=1, n_init=5) # initialization\n",
    "iris_kmeans.fit(data)"
   ]
  },
  {
   "cell_type": "code",
   "execution_count": 25,
   "metadata": {
    "collapsed": true
   },
   "outputs": [],
   "source": [
    "c = iris_kmeans.predict(data)"
   ]
  },
  {
   "cell_type": "code",
   "execution_count": 26,
   "metadata": {},
   "outputs": [
    {
     "name": "stdout",
     "output_type": "stream",
     "text": [
      "[1 1 1 1 1 1 1 1 1 1 1 1 1 1 1 1 1 1 1 1 1 1 1 1 1 1 1 1 1 1 1 1 1 1 1 1 1 1 1 1 1 1 1 1 1 1 1 1 1 1 2 2 0 2 2 2 2 2 2 2\n",
      " 2 2 2 2 2 2 2 2 2 2 2 2 2 2 2 2 2 0 2 2 2 2 2 2 2 2 2 2 2 2 2 2 2 2 2 2 2 2 2 2 0 2 0 0 0 0 2 0 0 0 0 0 0 2 2 0 0 0 0 2\n",
      " 0 2 0 2 0 0 2 2 0 0 0 0 0 2 0 0 0 0 2 0 0 0 2 0 0 0 2 0 0 2]\n"
     ]
    }
   ],
   "source": [
    "print c"
   ]
  },
  {
   "cell_type": "code",
   "execution_count": 27,
   "metadata": {},
   "outputs": [
    {
     "data": {
      "text/plain": [
       "(150L,)"
      ]
     },
     "execution_count": 27,
     "metadata": {},
     "output_type": "execute_result"
    }
   ],
   "source": [
    "c.shape"
   ]
  },
  {
   "cell_type": "code",
   "execution_count": 28,
   "metadata": {},
   "outputs": [
    {
     "data": {
      "text/plain": [
       "(150L,)"
      ]
     },
     "execution_count": 28,
     "metadata": {},
     "output_type": "execute_result"
    }
   ],
   "source": [
    "target.shape"
   ]
  },
  {
   "cell_type": "code",
   "execution_count": 29,
   "metadata": {},
   "outputs": [
    {
     "name": "stdout",
     "output_type": "stream",
     "text": [
      "[0 0 0 0 0 0 0 0 0 0 0 0 0 0 0 0 0 0 0 0 0 0 0 0 0 0 0 0 0 0 0 0 0 0 0 0 0 0 0 0 0 0 0 0 0 0 0 0 0 0 1 1 1 1 1 1 1 1 1 1\n",
      " 1 1 1 1 1 1 1 1 1 1 1 1 1 1 1 1 1 1 1 1 1 1 1 1 1 1 1 1 1 1 1 1 1 1 1 1 1 1 1 1 2 2 2 2 2 2 2 2 2 2 2 2 2 2 2 2 2 2 2 2\n",
      " 2 2 2 2 2 2 2 2 2 2 2 2 2 2 2 2 2 2 2 2 2 2 2 2 2 2 2 2 2 2]\n"
     ]
    }
   ],
   "source": [
    "print target"
   ]
  },
  {
   "cell_type": "markdown",
   "metadata": {},
   "source": [
    "#### Since we know what the classes are, we can evaluate clustering performance by using metrics that compatre clusters to the actual classes: "
   ]
  },
  {
   "cell_type": "markdown",
   "metadata": {},
   "source": [
    "#### Homogeneity: each cluster contains only members of a single class. Completeness: all members of a given class are assigned to the same cluster."
   ]
  },
  {
   "cell_type": "code",
   "execution_count": 30,
   "metadata": {
    "collapsed": true
   },
   "outputs": [],
   "source": [
    "from sklearn.metrics import completeness_score, homogeneity_score"
   ]
  },
  {
   "cell_type": "code",
   "execution_count": 31,
   "metadata": {},
   "outputs": [
    {
     "name": "stdout",
     "output_type": "stream",
     "text": [
      "0.764986151449\n"
     ]
    }
   ],
   "source": [
    "print completeness_score(target,c)"
   ]
  },
  {
   "cell_type": "code",
   "execution_count": 32,
   "metadata": {},
   "outputs": [
    {
     "name": "stdout",
     "output_type": "stream",
     "text": [
      "0.751485402199\n"
     ]
    }
   ],
   "source": [
    "print homogeneity_score(target,c)"
   ]
  },
  {
   "cell_type": "markdown",
   "metadata": {},
   "source": [
    "#### The completeness score approaches 1 when most of the data points that are members of a given class are elements of the same cluster while the homogeneity score approaches 1 when all the clusters contain almost only data points that are member of a single class."
   ]
  },
  {
   "cell_type": "code",
   "execution_count": 33,
   "metadata": {},
   "outputs": [
    {
     "name": "stdout",
     "output_type": "stream",
     "text": [
      "[[ 6.85  3.07  5.74  2.07]\n",
      " [ 5.01  3.42  1.46  0.24]\n",
      " [ 5.9   2.75  4.39  1.43]]\n"
     ]
    }
   ],
   "source": [
    "print iris_kmeans.cluster_centers_"
   ]
  },
  {
   "cell_type": "code",
   "execution_count": 34,
   "metadata": {},
   "outputs": [
    {
     "data": {
      "image/png": "[encoded data removed]",
      "text/plain": [
       "<matplotlib.figure.Figure at 0xc641c18>"
      ]
     },
     "metadata": {},
     "output_type": "display_data"
    }
   ],
   "source": [
    "pl.plot(data[c==1,0],data[c==1,2],'ro')\n",
    "pl.plot(data[c==0,0],data[c==0,2],'bo')\n",
    "pl.plot(data[c==2,0],data[c==2,2],'go')\n",
    "pl.show()"
   ]
  },
  {
   "cell_type": "code",
   "execution_count": 35,
   "metadata": {},
   "outputs": [
    {
     "name": "stdout",
     "output_type": "stream",
     "text": [
      "D:\\Documents\\Class\\CSC478\\Data\n"
     ]
    }
   ],
   "source": [
    "cd D:\\Documents\\Class\\CSC478\\Data"
   ]
  },
  {
   "cell_type": "markdown",
   "metadata": {},
   "source": [
    "#### Let's now use the kMeans clustering implementation from Machine Learning in Action, Ch. 10:"
   ]
  },
  {
   "cell_type": "code",
   "execution_count": 36,
   "metadata": {
    "collapsed": true
   },
   "outputs": [],
   "source": [
    "import kMeans"
   ]
  },
  {
   "cell_type": "code",
   "execution_count": 37,
   "metadata": {},
   "outputs": [
    {
     "data": {
      "text/plain": [
       "<module 'kMeans' from 'kMeans.pyc'>"
      ]
     },
     "execution_count": 37,
     "metadata": {},
     "output_type": "execute_result"
    }
   ],
   "source": [
    "reload(kMeans)"
   ]
  },
  {
   "cell_type": "code",
   "execution_count": 38,
   "metadata": {},
   "outputs": [
    {
     "name": "stdout",
     "output_type": "stream",
     "text": [
      "Iteration  1\n",
      "Iteration  2\n",
      "Iteration  3\n",
      "Iteration  4\n",
      "Iteration  5\n"
     ]
    }
   ],
   "source": [
    "centroids, clusters = kMeans.kMeans(data, 3, kMeans.distEuclid, kMeans.randCent)"
   ]
  },
  {
   "cell_type": "code",
   "execution_count": 39,
   "metadata": {},
   "outputs": [
    {
     "name": "stdout",
     "output_type": "stream",
     "text": [
      "[[ 6.85  3.08  5.72  2.05]\n",
      " [ 5.01  3.42  1.46  0.24]\n",
      " [ 5.88  2.74  4.39  1.43]]\n"
     ]
    }
   ],
   "source": [
    "print centroids"
   ]
  },
  {
   "cell_type": "code",
   "execution_count": 40,
   "metadata": {},
   "outputs": [
    {
     "name": "stdout",
     "output_type": "stream",
     "text": [
      "[[ 1.    0.02]\n",
      " [ 1.    0.19]\n",
      " [ 1.    0.17]\n",
      " [ 1.    0.27]\n",
      " [ 1.    0.04]\n",
      " [ 1.    0.47]\n",
      " [ 1.    0.17]\n",
      " [ 1.    0.  ]\n",
      " [ 1.    0.64]\n",
      " [ 1.    0.13]\n",
      " [ 1.    0.24]\n",
      " [ 1.    0.06]\n",
      " [ 1.    0.24]\n",
      " [ 1.    0.83]\n",
      " [ 1.    1.04]\n",
      " [ 1.    1.47]\n",
      " [ 1.    0.44]\n",
      " [ 1.    0.02]\n",
      " [ 1.    0.69]\n",
      " [ 1.    0.16]\n",
      " [ 1.    0.21]\n",
      " [ 1.    0.11]\n",
      " [ 1.    0.42]\n",
      " [ 1.    0.14]\n",
      " [ 1.    0.23]\n",
      " [ 1.    0.2 ]\n",
      " [ 1.    0.04]\n",
      " [ 1.    0.05]\n",
      " [ 1.    0.04]\n",
      " [ 1.    0.16]\n",
      " [ 1.    0.16]\n",
      " [ 1.    0.18]\n",
      " [ 1.    0.52]\n",
      " [ 1.    0.86]\n",
      " [ 1.    0.13]\n",
      " [ 1.    0.12]\n",
      " [ 1.    0.28]\n",
      " [ 1.    0.13]\n",
      " [ 1.    0.57]\n",
      " [ 1.    0.01]\n",
      " [ 1.    0.04]\n",
      " [ 1.    1.54]\n",
      " [ 1.    0.44]\n",
      " [ 1.    0.15]\n",
      " [ 1.    0.37]\n",
      " [ 1.    0.22]\n",
      " [ 1.    0.18]\n",
      " [ 1.    0.22]\n",
      " [ 1.    0.17]\n",
      " [ 1.    0.02]\n",
      " [ 0.    1.5 ]\n",
      " [ 2.    0.49]\n",
      " [ 0.    0.97]\n",
      " [ 2.    0.51]\n",
      " [ 2.    0.43]\n",
      " [ 2.    0.07]\n",
      " [ 2.    0.61]\n",
      " [ 2.    2.46]\n",
      " [ 2.    0.6 ]\n",
      " [ 2.    0.71]\n",
      " [ 2.    2.31]\n",
      " [ 2.    0.11]\n",
      " [ 2.    0.65]\n",
      " [ 2.    0.17]\n",
      " [ 2.    0.75]\n",
      " [ 2.    0.8 ]\n",
      " [ 2.    0.16]\n",
      " [ 2.    0.28]\n",
      " [ 2.    0.41]\n",
      " [ 2.    0.49]\n",
      " [ 2.    0.51]\n",
      " [ 2.    0.22]\n",
      " [ 2.    0.5 ]\n",
      " [ 2.    0.2 ]\n",
      " [ 2.    0.32]\n",
      " [ 2.    0.58]\n",
      " [ 2.    1.01]\n",
      " [ 0.    0.67]\n",
      " [ 2.    0.06]\n",
      " [ 2.    1.03]\n",
      " [ 2.    0.72]\n",
      " [ 2.    0.93]\n",
      " [ 2.    0.3 ]\n",
      " [ 2.    0.55]\n",
      " [ 2.    0.32]\n",
      " [ 2.    0.49]\n",
      " [ 2.    0.9 ]\n",
      " [ 2.    0.39]\n",
      " [ 2.    0.25]\n",
      " [ 2.    0.37]\n",
      " [ 2.    0.22]\n",
      " [ 2.    0.16]\n",
      " [ 2.    0.23]\n",
      " [ 2.    2.35]\n",
      " [ 2.    0.14]\n",
      " [ 2.    0.19]\n",
      " [ 2.    0.11]\n",
      " [ 2.    0.15]\n",
      " [ 2.    2.71]\n",
      " [ 2.    0.14]\n",
      " [ 0.    0.64]\n",
      " [ 2.    0.73]\n",
      " [ 0.    0.1 ]\n",
      " [ 0.    0.42]\n",
      " [ 0.    0.16]\n",
      " [ 0.    1.35]\n",
      " [ 2.    1.11]\n",
      " [ 0.    0.64]\n",
      " [ 0.    0.43]\n",
      " [ 0.    0.74]\n",
      " [ 0.    0.52]\n",
      " [ 0.    0.54]\n",
      " [ 0.    0.06]\n",
      " [ 2.    0.79]\n",
      " [ 2.    1.45]\n",
      " [ 0.    0.45]\n",
      " [ 0.    0.24]\n",
      " [ 0.    2.23]\n",
      " [ 0.    2.41]\n",
      " [ 2.    0.68]\n",
      " [ 0.    0.08]\n",
      " [ 2.    0.67]\n",
      " [ 0.    1.77]\n",
      " [ 2.    0.57]\n",
      " [ 0.    0.08]\n",
      " [ 0.    0.28]\n",
      " [ 2.    0.41]\n",
      " [ 2.    0.51]\n",
      " [ 0.    0.3 ]\n",
      " [ 0.    0.34]\n",
      " [ 0.    0.55]\n",
      " [ 0.    2.09]\n",
      " [ 0.    0.32]\n",
      " [ 2.    0.69]\n",
      " [ 0.    1.24]\n",
      " [ 0.    0.93]\n",
      " [ 0.    0.54]\n",
      " [ 0.    0.32]\n",
      " [ 2.    0.38]\n",
      " [ 0.    0.1 ]\n",
      " [ 0.    0.16]\n",
      " [ 0.    0.44]\n",
      " [ 2.    0.73]\n",
      " [ 0.    0.11]\n",
      " [ 0.    0.27]\n",
      " [ 0.    0.36]\n",
      " [ 2.    0.82]\n",
      " [ 0.    0.4 ]\n",
      " [ 0.    0.69]\n",
      " [ 2.    0.71]]\n"
     ]
    }
   ],
   "source": [
    "print clusters"
   ]
  },
  {
   "cell_type": "code",
   "execution_count": 41,
   "metadata": {},
   "outputs": [
    {
     "name": "stdout",
     "output_type": "stream",
     "text": [
      "[ 1.  1.  1.  1.  1.  1.  1.  1.  1.  1.  1.  1.  1.  1.  1.  1.  1.  1.  1.  1.  1.  1.  1.  1.  1.  1.  1.  1.  1.  1.\n",
      "  1.  1.  1.  1.  1.  1.  1.  1.  1.  1.  1.  1.  1.  1.  1.  1.  1.  1.  1.  1.  0.  2.  0.  2.  2.  2.  2.  2.  2.  2.\n",
      "  2.  2.  2.  2.  2.  2.  2.  2.  2.  2.  2.  2.  2.  2.  2.  2.  2.  0.  2.  2.  2.  2.  2.  2.  2.  2.  2.  2.  2.  2.\n",
      "  2.  2.  2.  2.  2.  2.  2.  2.  2.  2.  0.  2.  0.  0.  0.  0.  2.  0.  0.  0.  0.  0.  0.  2.  2.  0.  0.  0.  0.  2.\n",
      "  0.  2.  0.  2.  0.  0.  2.  2.  0.  0.  0.  0.  0.  2.  0.  0.  0.  0.  2.  0.  0.  0.  2.  0.  0.  0.  2.  0.  0.  2.]\n"
     ]
    }
   ],
   "source": [
    "newC = clusters.T[0]\n",
    "print newC"
   ]
  },
  {
   "cell_type": "code",
   "execution_count": 42,
   "metadata": {},
   "outputs": [
    {
     "name": "stdout",
     "output_type": "stream",
     "text": [
      "[1 1 1 1 1 1 1 1 1 1 1 1 1 1 1 1 1 1 1 1 1 1 1 1 1 1 1 1 1 1 1 1 1 1 1 1 1 1 1 1 1 1 1 1 1 1 1 1 1 1 0 2 0 2 2 2 2 2 2 2\n",
      " 2 2 2 2 2 2 2 2 2 2 2 2 2 2 2 2 2 0 2 2 2 2 2 2 2 2 2 2 2 2 2 2 2 2 2 2 2 2 2 2 0 2 0 0 0 0 2 0 0 0 0 0 0 2 2 0 0 0 0 2\n",
      " 0 2 0 2 0 0 2 2 0 0 0 0 0 2 0 0 0 0 2 0 0 0 2 0 0 0 2 0 0 2]\n"
     ]
    }
   ],
   "source": [
    "newC = newC.astype(int)\n",
    "print newC"
   ]
  },
  {
   "cell_type": "code",
   "execution_count": 43,
   "metadata": {},
   "outputs": [
    {
     "name": "stdout",
     "output_type": "stream",
     "text": [
      "0.74748658051\n"
     ]
    }
   ],
   "source": [
    "print completeness_score(target,newC)"
   ]
  },
  {
   "cell_type": "code",
   "execution_count": 44,
   "metadata": {},
   "outputs": [
    {
     "name": "stdout",
     "output_type": "stream",
     "text": [
      "0.736419288125\n"
     ]
    }
   ],
   "source": [
    "print homogeneity_score(target,newC)"
   ]
  },
  {
   "cell_type": "code",
   "execution_count": 45,
   "metadata": {},
   "outputs": [
    {
     "data": {
      "text/plain": [
       "<module 'kMeans' from 'kMeans.pyc'>"
      ]
     },
     "execution_count": 45,
     "metadata": {},
     "output_type": "execute_result"
    }
   ],
   "source": [
    "reload(kMeans)"
   ]
  },
  {
   "cell_type": "code",
   "execution_count": 46,
   "metadata": {},
   "outputs": [
    {
     "name": "stdout",
     "output_type": "stream",
     "text": [
      "Iteration  1\n",
      "Iteration  2\n",
      "Iteration  3\n",
      "sseSplit, and notSplit:  152.368706477 0.0\n",
      "the bestCentToSplit is:  0\n",
      "the len of bestClustAss is:  150\n",
      "Iteration  1\n",
      "Iteration  2\n",
      "Iteration  3\n",
      "Iteration  4\n",
      "Iteration  5\n",
      "sseSplit, and notSplit:  55.651677074 28.5728301887\n",
      "Iteration  1\n",
      "Iteration  2\n",
      "Iteration  3\n",
      "Iteration  4\n",
      "Iteration  5\n",
      "Iteration  6\n",
      "sseSplit, and notSplit:  19.5377246377 123.795876289\n",
      "the bestCentToSplit is:  0\n",
      "the len of bestClustAss is:  97\n"
     ]
    }
   ],
   "source": [
    "centroids_bk, clusters_bk = kMeans.biKmeans(data, 3, kMeans.distEuclid)"
   ]
  },
  {
   "cell_type": "code",
   "execution_count": 47,
   "metadata": {},
   "outputs": [
    {
     "name": "stdout",
     "output_type": "stream",
     "text": [
      "[[ 6.85  5.01  5.95]]\n"
     ]
    }
   ],
   "source": [
    "print centroids_bk"
   ]
  },
  {
   "cell_type": "code",
   "execution_count": 48,
   "metadata": {
    "collapsed": true
   },
   "outputs": [],
   "source": [
    "bkC = clusters_bk.T[0]\n",
    "bkC = bkC.astype(int)"
   ]
  },
  {
   "cell_type": "code",
   "execution_count": 49,
   "metadata": {},
   "outputs": [
    {
     "name": "stdout",
     "output_type": "stream",
     "text": [
      "[[1 1 1 1 1 1 1 1 1 1 1 1 1 1 1 1 1 1 1 1 1 1 1 1 1 1 1 1 1 1 1 1 1 1 1 1 1 1 1 1 1 1 1 1 1 1 1 1 1 1 2 2 0 2 2 2 2 1 2\n",
      "  2 2 2 2 2 2 2 2 2 2 2 2 2 2 2 2 2 2 0 2 2 2 2 2 2 2 2 2 2 2 2 2 2 2 1 2 2 2 2 1 2 0 2 0 0 0 0 2 0 0 0 0 0 0 2 2 0 0 0\n",
      "  0 2 0 2 0 2 0 0 2 2 0 0 0 0 0 2 0 0 0 0 2 0 0 0 2 0 0 0 2 0 0 2]]\n"
     ]
    }
   ],
   "source": [
    "print bkC"
   ]
  },
  {
   "cell_type": "code",
   "execution_count": 50,
   "metadata": {},
   "outputs": [
    {
     "name": "stdout",
     "output_type": "stream",
     "text": [
      "[1 1 1 1 1 1 1 1 1 1 1 1 1 1 1 1 1 1 1 1 1 1 1 1 1 1 1 1 1 1 1 1 1 1 1 1 1 1 1 1 1 1 1 1 1 1 1 1 1 1 2 2 0 2 2 2 2 1 2 2\n",
      " 2 2 2 2 2 2 2 2 2 2 2 2 2 2 2 2 2 0 2 2 2 2 2 2 2 2 2 2 2 2 2 2 2 1 2 2 2 2 1 2 0 2 0 0 0 0 2 0 0 0 0 0 0 2 2 0 0 0 0 2\n",
      " 0 2 0 2 0 0 2 2 0 0 0 0 0 2 0 0 0 0 2 0 0 0 2 0 0 0 2 0 0 2]\n"
     ]
    }
   ],
   "source": [
    "bkC = np.ravel(bkC)\n",
    "print bkC"
   ]
  },
  {
   "cell_type": "code",
   "execution_count": 51,
   "metadata": {},
   "outputs": [
    {
     "name": "stdout",
     "output_type": "stream",
     "text": [
      "0.696570598725\n"
     ]
    }
   ],
   "source": [
    "print completeness_score(target,bkC)"
   ]
  },
  {
   "cell_type": "code",
   "execution_count": 52,
   "metadata": {},
   "outputs": [
    {
     "name": "stdout",
     "output_type": "stream",
     "text": [
      "0.686320173949\n"
     ]
    }
   ],
   "source": [
    "print homogeneity_score(target,bkC)"
   ]
  },
  {
   "cell_type": "code",
   "execution_count": 142,
   "metadata": {
    "collapsed": true
   },
   "outputs": [],
   "source": []
  }
 ],
 "metadata": {
  "kernelspec": {
   "display_name": "Python 2",
   "language": "python",
   "name": "python2"
  },
  "language_info": {
   "codemirror_mode": {
    "name": "ipython",
    "version": 2
   },
   "file_extension": ".py",
   "mimetype": "text/x-python",
   "name": "python",
   "nbconvert_exporter": "python",
   "pygments_lexer": "ipython2",
   "version": "2.7.13"
  }
 },
 "nbformat": 4,
 "nbformat_minor": 1
}
