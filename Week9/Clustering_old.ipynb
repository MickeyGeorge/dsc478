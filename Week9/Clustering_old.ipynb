








<!DOCTYPE html>
<html lang="en">

<head>
  <meta charset="utf-8">
  <title>Jupyter Notebook Viewer</title>
  <meta name="viewport" content="width=device-width, initial-scale=1.0">
  <meta name="description" content="">
  <meta name="author" content="">
  
  <meta name="robots" content="noindex,nofollow">
  

  <!--NEW RELIC Start Perf Measurement-->
  
  <!--NREND-->

  <!-- Le styles -->
  <link href="/static/build/styles.css?v=f2b0b1b8f36a035146061040aa080202" rel="stylesheet">

  <!-- Le HTML5 shim, for IE6-8 support of HTML5 elements -->
  <!--[if lt IE 9]>
    <script src="http://html5shim.googlecode.com/svn/trunk/html5.js"></script>
  <![endif]-->

  <!-- Le fav and touch icons -->
  <link rel="shortcut icon" href="/static/ico/ipynb_icon_16x16.png">
  <link rel="apple-touch-icon-precomposed" sizes="144x144"
        href="/static/ico/apple-touch-icon-144-precomposed.png?v=5a3c9ede93e2a8b8ea9e3f8f3da1a905">
  <link rel="apple-touch-icon-precomposed" sizes="114x114"
        href="/static/ico/apple-touch-icon-114-precomposed.png?v=45d86fc8f24dc00638035e1dd7a6d898">
  <link rel="apple-touch-icon-precomposed" sizes="72x72"
        href="/static/ico/apple-touch-icon-72-precomposed.png?v=540b5eb0f3cfd25f1439d1c9bd30e15f">
  <link rel="apple-touch-icon-precomposed"
        href="/static/ico/apple-touch-icon-57-precomposed.png?v=225f0590e187e1458625654f10a28f56">
  
  

  

  
  <meta name="twitter:card" content="summary">
  <meta name="twitter:title" content="Notebook on nbviewer">
  <meta name="twitter:description" content="Check out this Jupyter notebook!">

  
  <meta name="twitter:domain" content="nbviewer.jupyter.org">
  <meta name="twitter:image:src" content="http://ipython.org/ipython-doc/dev/_images/ipynb_icon_128x128.png">

  
    <link href="/static/build/notebook.css?v=81e0139371f853f9af20339dc0bcfaa6" rel="stylesheet">
  

  

  
    <script src="https://cdnjs.cloudflare.com/ajax/libs/mathjax/2.7.1/MathJax.js?config=TeX-AMS_HTML" type="text/javascript">
    </script>
    <script type="text/javascript">
      init_mathjax = function() {
        if (window.MathJax) {
          // MathJax loaded
          MathJax.Hub.Config({
            TeX: {
              equationNumbers: {
                autoNumber: "AMS",
                useLabelIds: true
              }
            },
            tex2jax: {
              inlineMath: [ ['$','$'], ["\\(","\\)"] ],
              displayMath: [ ['$$','$$'], ["\\[","\\]"] ],
              processEscapes: true,
              processEnvironments: true
            },
            displayAlign: 'center',
            "HTML-CSS": {
              styles: {'.MathJax_Display': {"margin": 0}},
              linebreaks: { automatic: true }
            }
          });
          MathJax.Hub.Queue(["Typeset", MathJax.Hub]);
        }
      }
      init_mathjax();
    </script>
  

  
    <script>
      (function() {
        function addWidgetsRenderer() {
          var mimeElement = document.querySelector('script[type="application/vnd.jupyter.widget-view+json"]');
          var scriptElement = document.createElement('script');
          var widgetRendererSrc = 'https://unpkg.com/@jupyter-widgets/html-manager@*/dist/embed-amd.js';
          var widgetState;

          try {
            widgetState = mimeElement && JSON.parse(mimeElement.innerHTML);

            if (widgetState && (widgetState.version_major < 2 || !widgetState.version_major)) {
              widgetRendererSrc = 'https://unpkg.com/jupyter-js-widgets@*/dist/embed.js';
            }
          } catch(e) {}

          scriptElement.src = widgetRendererSrc;
          document.body.appendChild(scriptElement);
        }

        document.addEventListener('DOMContentLoaded', addWidgetsRenderer);
      }());
    </script>
  

</head>

<body class="nbviewer">

  <!-- These are loaded at the top of the body so they are available to
       notebook cells when they are loaded below. -->
  <script src="/static/components/jquery/dist/jquery.min.js?v=a09e13ee94d51c524b7e2a728c7d4039"></script>
  <script src="/static/components/requirejs/require.js?v=6da8be361b9ee26c5e721e76c6d4afce"></script>
  <script src="/static/components/moment/min/moment.min.js?v=89f87298ad94aa1e6b92f42eb66da043"></script>
<!-- Navbar
================================================== -->
  <nav id="menubar" class="navbar navbar-default navbar-fixed-top" data-spy="affix">
    <div class="container">
      <div class="navbar-header">
        <button type="button" class="navbar-toggle collapsed" data-toggle="collapse" data-target=".navbar-collapse">
          <span class="sr-only">Toggle navigation</span>
          <i class="fa fa-bars"></i>
        </button>
        <a class="navbar-brand" href="/">
          <img src="/static/img/nav_logo.svg?v=479cefe8d932fb14a67b93911b97d70f" width="159"/>
        </a>
      </div>

      <div class="collapse navbar-collapse">
        <ul class="nav navbar-nav navbar-right">
          <li>
            <a class="active" href="http://jupyter.org">JUPYTER</a>
          </li>
          <li>
    <a href="/faq" title="FAQ" >
      
        <span>FAQ</span>
      
    </a>
  </li>

          
  
    
  
    
      
        <li>
    <a href="/format/script/url/bmobasher.com/Class/CSC478/Clustering.ipynb" title="View as Code" >
      <span class="fa fa-code fa-2x menu-icon"></span>
      <span class="menu-text">View as Code</span>
    </a>
  </li>
      
    
  

  
    <li>
    <a href="#" title="Python 2 Kernel" >
      <span class="fa fa-server fa-2x menu-icon"></span>
      <span class="menu-text">Python 2 Kernel</span>
    </a>
  </li>
  

  

  

  <li>
    <a href="http://bmobasher.com/Class/CSC478/Clustering.ipynb" title="Download Notebook" download>
      <span class="fa fa-download fa-2x menu-icon"></span>
      <span class="menu-text">Download Notebook</span>
    </a>
  </li>

        </ul>
      </div><!-- /.navbar-collapse -->
      
      
    </div>
  </nav>

  <div class="container container-main">
    
  
  <div id="notebook">
    <div id="notebook-container">
      
<div class="cell border-box-sizing text_cell rendered"><div class="prompt input_prompt">
</div>
<div class="inner_cell">
<div class="text_cell_render border-box-sizing rendered_html">
<h4 id="We-will-use-Boston-Housing-data-to-illustrate-the-use-of-clustering-technqiues.">We will use Boston Housing data to illustrate the use of clustering technqiues.<a class="anchor-link" href="#We-will-use-Boston-Housing-data-to-illustrate-the-use-of-clustering-technqiues.">&#182;</a></h4>
</div>
</div>
</div>
<div class="cell border-box-sizing code_cell rendered">
<div class="input">
<div class="prompt input_prompt">In&nbsp;[1]:</div>
<div class="inner_cell">
    <div class="input_area">
<div class=" highlight hl-ipython2"><pre><span></span><span class="kn">import</span> <span class="nn">numpy</span> <span class="kn">as</span> <span class="nn">np</span>
<span class="kn">import</span> <span class="nn">pylab</span> <span class="kn">as</span> <span class="nn">pl</span>
<span class="kn">import</span> <span class="nn">pandas</span> <span class="kn">as</span> <span class="nn">pd</span>
<span class="kn">from</span> <span class="nn">sklearn.cluster</span> <span class="kn">import</span> <span class="n">KMeans</span> 
<span class="kn">from</span> <span class="nn">sklearn.datasets</span> <span class="kn">import</span> <span class="n">load_boston</span>
<span class="n">boston</span> <span class="o">=</span> <span class="n">load_boston</span><span class="p">()</span>
</pre></div>

</div>
</div>
</div>

</div>
<div class="cell border-box-sizing code_cell rendered">
<div class="input">
<div class="prompt input_prompt">In&nbsp;[2]:</div>
<div class="inner_cell">
    <div class="input_area">
<div class=" highlight hl-ipython2"><pre><span></span><span class="n">np</span><span class="o">.</span><span class="n">set_printoptions</span><span class="p">(</span><span class="n">suppress</span><span class="o">=</span><span class="bp">True</span><span class="p">,</span> <span class="n">precision</span><span class="o">=</span><span class="mi">2</span><span class="p">,</span> <span class="n">linewidth</span><span class="o">=</span><span class="mi">120</span><span class="p">)</span>
</pre></div>

</div>
</div>
</div>

</div>
<div class="cell border-box-sizing code_cell rendered">
<div class="input">
<div class="prompt input_prompt">In&nbsp;[3]:</div>
<div class="inner_cell">
    <div class="input_area">
<div class=" highlight hl-ipython2"><pre><span></span><span class="k">print</span> <span class="n">boston</span><span class="o">.</span><span class="n">data</span><span class="p">[:</span><span class="mi">2</span><span class="p">]</span>
</pre></div>

</div>
</div>
</div>

<div class="output_wrapper">
<div class="output">


<div class="output_area">

<div class="prompt"></div>


<div class="output_subarea output_stream output_stdout output_text">
<pre>[[   0.01   18.      2.31    0.      0.54    6.58   65.2     4.09    1.    296.     15.3   396.9     4.98]
 [   0.03    0.      7.07    0.      0.47    6.42   78.9     4.97    2.    242.     17.8   396.9     9.14]]
</pre>
</div>
</div>

</div>
</div>

</div>
<div class="cell border-box-sizing code_cell rendered">
<div class="input">
<div class="prompt input_prompt">In&nbsp;[4]:</div>
<div class="inner_cell">
    <div class="input_area">
<div class=" highlight hl-ipython2"><pre><span></span><span class="k">print</span> <span class="n">boston</span><span class="o">.</span><span class="n">target</span><span class="p">[:</span><span class="mi">2</span><span class="p">]</span>
</pre></div>

</div>
</div>
</div>

<div class="output_wrapper">
<div class="output">


<div class="output_area">

<div class="prompt"></div>


<div class="output_subarea output_stream output_stdout output_text">
<pre>[ 24.   21.6]
</pre>
</div>
</div>

</div>
</div>

</div>
<div class="cell border-box-sizing text_cell rendered"><div class="prompt input_prompt">
</div>
<div class="inner_cell">
<div class="text_cell_render border-box-sizing rendered_html">
<h4 id="There-is-no-target-attribute-in-unsupervised-approaches-to-data-mining.-So,-we-can-add-back-the-target-attribute-(in-this-case-it-may-be-a-useful-variable-for-clustering).">There is no target attribute in unsupervised approaches to data mining. So, we can add back the target attribute (in this case it may be a useful variable for clustering).<a class="anchor-link" href="#There-is-no-target-attribute-in-unsupervised-approaches-to-data-mining.-So,-we-can-add-back-the-target-attribute-(in-this-case-it-may-be-a-useful-variable-for-clustering).">&#182;</a></h4>
</div>
</div>
</div>
<div class="cell border-box-sizing code_cell rendered">
<div class="input">
<div class="prompt input_prompt">In&nbsp;[5]:</div>
<div class="inner_cell">
    <div class="input_area">
<div class=" highlight hl-ipython2"><pre><span></span><span class="n">x</span> <span class="o">=</span> <span class="n">np</span><span class="o">.</span><span class="n">array</span><span class="p">([</span><span class="n">np</span><span class="o">.</span><span class="n">concatenate</span><span class="p">((</span><span class="n">boston</span><span class="o">.</span><span class="n">data</span><span class="p">[</span><span class="n">i</span><span class="p">],[</span><span class="n">boston</span><span class="o">.</span><span class="n">target</span><span class="p">[</span><span class="n">i</span><span class="p">]]))</span> <span class="k">for</span> <span class="n">i</span> <span class="ow">in</span> <span class="nb">range</span><span class="p">(</span><span class="nb">len</span><span class="p">(</span><span class="n">boston</span><span class="o">.</span><span class="n">data</span><span class="p">))])</span>
</pre></div>

</div>
</div>
</div>

</div>
<div class="cell border-box-sizing code_cell rendered">
<div class="input">
<div class="prompt input_prompt">In&nbsp;[6]:</div>
<div class="inner_cell">
    <div class="input_area">
<div class=" highlight hl-ipython2"><pre><span></span><span class="k">print</span> <span class="n">x</span><span class="p">[:</span><span class="mi">2</span><span class="p">]</span>
</pre></div>

</div>
</div>
</div>

<div class="output_wrapper">
<div class="output">


<div class="output_area">

<div class="prompt"></div>


<div class="output_subarea output_stream output_stdout output_text">
<pre>[[   0.01   18.      2.31    0.      0.54    6.58   65.2     4.09    1.    296.     15.3   396.9     4.98   24.  ]
 [   0.03    0.      7.07    0.      0.47    6.42   78.9     4.97    2.    242.     17.8   396.9     9.14   21.6 ]]
</pre>
</div>
</div>

</div>
</div>

</div>
<div class="cell border-box-sizing text_cell rendered"><div class="prompt input_prompt">
</div>
<div class="inner_cell">
<div class="text_cell_render border-box-sizing rendered_html">
<h4 id="Now-we-use-KMeans-algorithm-of-scikit-learn-to-perform-the-clustering.">Now we use KMeans algorithm of scikit-learn to perform the clustering.<a class="anchor-link" href="#Now-we-use-KMeans-algorithm-of-scikit-learn-to-perform-the-clustering.">&#182;</a></h4>
</div>
</div>
</div>
<div class="cell border-box-sizing code_cell rendered">
<div class="input">
<div class="prompt input_prompt">In&nbsp;[7]:</div>
<div class="inner_cell">
    <div class="input_area">
<div class=" highlight hl-ipython2"><pre><span></span><span class="n">kmeans</span> <span class="o">=</span> <span class="n">KMeans</span><span class="p">(</span><span class="n">n_clusters</span><span class="o">=</span><span class="mi">5</span><span class="p">,</span> <span class="n">max_iter</span><span class="o">=</span><span class="mi">500</span><span class="p">,</span> <span class="n">verbose</span><span class="o">=</span><span class="mi">1</span><span class="p">)</span> <span class="c1"># initialization</span>
</pre></div>

</div>
</div>
</div>

</div>
<div class="cell border-box-sizing code_cell rendered">
<div class="input">
<div class="prompt input_prompt">In&nbsp;[8]:</div>
<div class="inner_cell">
    <div class="input_area">
<div class=" highlight hl-ipython2"><pre><span></span><span class="n">kmeans</span><span class="o">.</span><span class="n">fit</span><span class="p">(</span><span class="n">x</span><span class="p">)</span>
</pre></div>

</div>
</div>
</div>

<div class="output_wrapper">
<div class="output">


<div class="output_area">

<div class="prompt"></div>


<div class="output_subarea output_stream output_stdout output_text">
<pre>Initialization complete
Iteration  0, inertia 1900863.047
Iteration  1, inertia 1539103.044
Iteration  2, inertia 1500857.955
Iteration  3, inertia 1500414.923
Converged at iteration 3
Initialization complete
Iteration  0, inertia 2111574.633
Iteration  1, inertia 1558158.474
Iteration  2, inertia 1508487.189
Iteration  3, inertia 1500845.914
Iteration  4, inertia 1500414.923
Converged at iteration 4
Initialization complete
Iteration  0, inertia 2318898.681
Iteration  1, inertia 1486232.443
Iteration  2, inertia 1478189.279
Iteration  3, inertia 1477901.691
Iteration  4, inertia 1477608.702
Iteration  5, inertia 1476992.206
Iteration  6, inertia 1476845.860
Iteration  7, inertia 1476759.615
Converged at iteration 7
Initialization complete
Iteration  0, inertia 2415048.226
Iteration  1, inertia 1485568.539
Iteration  2, inertia 1478772.644
Iteration  3, inertia 1477273.447
Iteration  4, inertia 1476845.860
Iteration  5, inertia 1476759.615
Converged at iteration 5
Initialization complete
Iteration  0, inertia 2223438.015
Iteration  1, inertia 1613892.614
Iteration  2, inertia 1580902.019
Iteration  3, inertia 1578911.364
Iteration  4, inertia 1577973.587
Iteration  5, inertia 1577004.521
Iteration  6, inertia 1576658.891
Iteration  7, inertia 1576314.292
Iteration  8, inertia 1575901.982
Converged at iteration 8
Initialization complete
Iteration  0, inertia 2022418.656
Iteration  1, inertia 1501265.762
Iteration  2, inertia 1500398.299
Converged at iteration 2
Initialization complete
Iteration  0, inertia 1935063.234
Iteration  1, inertia 1614998.959
Iteration  2, inertia 1582743.884
Iteration  3, inertia 1579764.283
Converged at iteration 3
Initialization complete
Iteration  0, inertia 2688036.262
Iteration  1, inertia 1708267.677
Iteration  2, inertia 1703847.033
Converged at iteration 2
Initialization complete
Iteration  0, inertia 2013127.282
Iteration  1, inertia 1580979.688
Iteration  2, inertia 1580127.664
Iteration  3, inertia 1579942.130
Iteration  4, inertia 1579764.283
Converged at iteration 4
Initialization complete
Iteration  0, inertia 3196687.119
Iteration  1, inertia 1491528.404
Iteration  2, inertia 1478347.808
Iteration  3, inertia 1476696.777
Converged at iteration 3
</pre>
</div>
</div>

<div class="output_area">

<div class="prompt output_prompt">Out[8]:</div>




<div class="output_text output_subarea output_execute_result">
<pre>KMeans(copy_x=True, init=&#39;k-means++&#39;, max_iter=500, n_clusters=5, n_init=10,
    n_jobs=1, precompute_distances=&#39;auto&#39;, random_state=None, tol=0.0001,
    verbose=1)</pre>
</div>

</div>

</div>
</div>

</div>
<div class="cell border-box-sizing code_cell rendered">
<div class="input">
<div class="prompt input_prompt">In&nbsp;[9]:</div>
<div class="inner_cell">
    <div class="input_area">
<div class=" highlight hl-ipython2"><pre><span></span><span class="n">clusters</span> <span class="o">=</span> <span class="n">kmeans</span><span class="o">.</span><span class="n">predict</span><span class="p">(</span><span class="n">x</span><span class="p">)</span>
</pre></div>

</div>
</div>
</div>

</div>
<div class="cell border-box-sizing code_cell rendered">
<div class="input">
<div class="prompt input_prompt">In&nbsp;[10]:</div>
<div class="inner_cell">
    <div class="input_area">
<div class=" highlight hl-ipython2"><pre><span></span><span class="k">print</span> <span class="n">clusters</span>
</pre></div>

</div>
</div>
</div>

<div class="output_wrapper">
<div class="output">


<div class="output_area">

<div class="prompt"></div>


<div class="output_subarea output_stream output_stdout output_text">
<pre>[2 2 2 2 2 2 2 2 2 2 2 2 2 2 2 2 2 2 2 2 2 2 2 2 2 2 2 2 2 2 2 2 4 2 4 2 2 2 2 2 2 2 2 2 2 2 2 2 2 2 2 2 2 2 0 2 2 2 2 2
 2 2 2 2 2 2 2 0 0 0 2 2 2 2 0 0 0 0 0 0 2 2 2 2 2 2 2 2 2 2 2 2 2 2 2 2 2 2 2 2 0 0 4 0 0 0 0 0 0 0 0 0 0 0 0 0 0 0 0 0
 2 2 2 2 2 2 2 0 0 0 0 0 0 0 4 0 0 0 0 0 0 0 0 0 0 4 4 0 0 0 0 0 0 4 0 4 4 0 0 0 0 0 0 0 0 4 0 4 0 0 0 0 2 2 2 2 2 2 2 2
 2 2 2 2 2 2 2 0 0 0 0 0 0 2 2 2 2 2 2 0 0 0 0 2 2 2 2 2 2 2 2 2 2 2 2 2 2 2 2 2 2 2 2 2 2 2 2 2 2 2 2 2 2 2 2 2 2 2 2 2
 2 2 2 2 2 2 2 2 2 2 2 2 2 2 2 2 2 2 2 2 2 2 2 2 2 2 2 2 2 2 2 2 2 2 2 2 2 2 2 2 2 2 2 2 2 2 2 2 2 2 2 2 2 2 2 2 2 2 0 0
 0 2 2 2 2 2 2 2 2 2 2 2 2 2 2 2 2 2 2 2 2 2 2 2 2 2 2 2 0 0 0 2 2 2 2 2 2 2 2 2 2 2 0 0 0 0 0 0 2 2 2 0 0 2 2 2 1 1 1 1
 1 1 1 1 1 1 1 3 1 1 1 1 1 1 1 1 1 1 1 1 1 1 1 1 1 1 1 1 1 1 1 1 1 1 1 1 1 1 1 1 1 1 1 1 1 1 1 1 1 3 3 3 3 1 3 3 3 3 3 3
 1 1 1 3 3 3 3 3 3 3 3 3 3 3 3 3 3 3 3 1 1 1 1 1 1 3 1 1 1 1 3 1 1 1 3 3 3 3 1 1 1 1 1 1 1 1 3 1 1 1 1 1 1 1 1 1 1 1 1 1
 1 1 1 1 1 1 1 1 1 1 1 1 1 0 0 0 0 0 0 0 0 2 2 2 2 2]
</pre>
</div>
</div>

</div>
</div>

</div>
<div class="cell border-box-sizing text_cell rendered"><div class="prompt input_prompt">
</div>
<div class="inner_cell">
<div class="text_cell_render border-box-sizing rendered_html">
<h4 id="The-centroids-provide-an-aggregate-representation-and-a-characterization-of-each-cluster.">The centroids provide an aggregate representation and a characterization of each cluster.<a class="anchor-link" href="#The-centroids-provide-an-aggregate-representation-and-a-characterization-of-each-cluster.">&#182;</a></h4>
</div>
</div>
</div>
<div class="cell border-box-sizing code_cell rendered">
<div class="input">
<div class="prompt input_prompt">In&nbsp;[15]:</div>
<div class="inner_cell">
    <div class="input_area">
<div class=" highlight hl-ipython2"><pre><span></span><span class="k">print</span> <span class="n">boston</span><span class="o">.</span><span class="n">feature_names</span>
<span class="k">print</span> <span class="n">kmeans</span><span class="o">.</span><span class="n">cluster_centers_</span>
</pre></div>

</div>
</div>
</div>

<div class="output_wrapper">
<div class="output">


<div class="output_area">

<div class="prompt"></div>


<div class="output_subarea output_stream output_stdout output_text">
<pre>[&#39;CRIM&#39; &#39;ZN&#39; &#39;INDUS&#39; &#39;CHAS&#39; &#39;NOX&#39; &#39;RM&#39; &#39;AGE&#39; &#39;DIS&#39; &#39;RAD&#39; &#39;TAX&#39; &#39;PTRATIO&#39; &#39;B&#39; &#39;LSTAT&#39;]
[[   0.62   12.88   12.03    0.06    0.56    6.21   69.25    3.63    4.73  402.31   17.76  382.25   12.18   22.75]
 [  11.08    0.     18.57    0.08    0.67    5.97   90.01    2.07   23.03  668.18   20.2   370.24   17.9    17.42]
 [   0.24   17.26    6.71    0.08    0.48    6.47   56.07    4.84    4.34  274.69   17.86  388.78    9.47   25.98]
 [  15.69   -0.     18.1     0.      0.67    6.1    89.84    2.     24.    666.     20.2    51.1    21.03   12.8 ]
 [   1.96    0.     16.71    0.09    0.71    5.92   91.82    2.32    4.73  386.91   17.    187.55   17.21   17.02]]
</pre>
</div>
</div>

</div>
</div>

</div>
<div class="cell border-box-sizing text_cell rendered"><div class="prompt input_prompt">
</div>
<div class="inner_cell">
<div class="text_cell_render border-box-sizing rendered_html">
<h4 id="Now,-let's-look-at-the-Iris-Data-set-[See-Description]:">Now, let's look at the Iris Data set [See Description]:<a class="anchor-link" href="#Now,-let's-look-at-the-Iris-Data-set-[See-Description]:">&#182;</a></h4>
</div>
</div>
</div>
<div class="cell border-box-sizing code_cell rendered">
<div class="input">
<div class="prompt input_prompt">In&nbsp;[16]:</div>
<div class="inner_cell">
    <div class="input_area">
<div class=" highlight hl-ipython2"><pre><span></span><span class="kn">from</span> <span class="nn">sklearn.datasets</span> <span class="kn">import</span> <span class="n">load_iris</span>
<span class="n">iris</span> <span class="o">=</span> <span class="n">load_iris</span><span class="p">()</span>
</pre></div>

</div>
</div>
</div>

</div>
<div class="cell border-box-sizing code_cell rendered">
<div class="input">
<div class="prompt input_prompt">In&nbsp;[17]:</div>
<div class="inner_cell">
    <div class="input_area">
<div class=" highlight hl-ipython2"><pre><span></span><span class="k">print</span> <span class="n">iris</span><span class="o">.</span><span class="n">DESCR</span>
</pre></div>

</div>
</div>
</div>

<div class="output_wrapper">
<div class="output">


<div class="output_area">

<div class="prompt"></div>


<div class="output_subarea output_stream output_stdout output_text">
<pre>Iris Plants Database

Notes
-----
Data Set Characteristics:
    :Number of Instances: 150 (50 in each of three classes)
    :Number of Attributes: 4 numeric, predictive attributes and the class
    :Attribute Information:
        - sepal length in cm
        - sepal width in cm
        - petal length in cm
        - petal width in cm
        - class:
                - Iris-Setosa
                - Iris-Versicolour
                - Iris-Virginica
    :Summary Statistics:

    ============== ==== ==== ======= ===== ====================
                    Min  Max   Mean    SD   Class Correlation
    ============== ==== ==== ======= ===== ====================
    sepal length:   4.3  7.9   5.84   0.83    0.7826
    sepal width:    2.0  4.4   3.05   0.43   -0.4194
    petal length:   1.0  6.9   3.76   1.76    0.9490  (high!)
    petal width:    0.1  2.5   1.20  0.76     0.9565  (high!)
    ============== ==== ==== ======= ===== ====================

    :Missing Attribute Values: None
    :Class Distribution: 33.3% for each of 3 classes.
    :Creator: R.A. Fisher
    :Donor: Michael Marshall (MARSHALL%<a href="/cdn-cgi/l/email-protection" class="__cf_email__" data-cfemail="abfbe7feebc2c485cad9c885c5cad8ca85ccc4dd">[email&#160;protected]</a>)
    :Date: July, 1988

This is a copy of UCI ML iris datasets.
http://archive.ics.uci.edu/ml/datasets/Iris

The famous Iris database, first used by Sir R.A Fisher

This is perhaps the best known database to be found in the
pattern recognition literature.  Fisher&#39;s paper is a classic in the field and
is referenced frequently to this day.  (See Duda &amp; Hart, for example.)  The
data set contains 3 classes of 50 instances each, where each class refers to a
type of iris plant.  One class is linearly separable from the other 2; the
latter are NOT linearly separable from each other.

References
----------
   - Fisher,R.A. &#34;The use of multiple measurements in taxonomic problems&#34;
     Annual Eugenics, 7, Part II, 179-188 (1936); also in &#34;Contributions to
     Mathematical Statistics&#34; (John Wiley, NY, 1950).
   - Duda,R.O., &amp; Hart,P.E. (1973) Pattern Classification and Scene Analysis.
     (Q327.D83) John Wiley &amp; Sons.  ISBN 0-471-22361-1.  See page 218.
   - Dasarathy, B.V. (1980) &#34;Nosing Around the Neighborhood: A New System
     Structure and Classification Rule for Recognition in Partially Exposed
     Environments&#34;.  IEEE Transactions on Pattern Analysis and Machine
     Intelligence, Vol. PAMI-2, No. 1, 67-71.
   - Gates, G.W. (1972) &#34;The Reduced Nearest Neighbor Rule&#34;.  IEEE Transactions
     on Information Theory, May 1972, 431-433.
   - See also: 1988 MLC Proceedings, 54-64.  Cheeseman et al&#34;s AUTOCLASS II
     conceptual clustering system finds 3 classes in the data.
   - Many, many more ...

</pre>
</div>
</div>

</div>
</div>

</div>
<div class="cell border-box-sizing code_cell rendered">
<div class="input">
<div class="prompt input_prompt">In&nbsp;[18]:</div>
<div class="inner_cell">
    <div class="input_area">
<div class=" highlight hl-ipython2"><pre><span></span><span class="n">data</span> <span class="o">=</span> <span class="n">iris</span><span class="o">.</span><span class="n">data</span>
<span class="n">target</span> <span class="o">=</span> <span class="n">iris</span><span class="o">.</span><span class="n">target</span>
</pre></div>

</div>
</div>
</div>

</div>
<div class="cell border-box-sizing code_cell rendered">
<div class="input">
<div class="prompt input_prompt">In&nbsp;[19]:</div>
<div class="inner_cell">
    <div class="input_area">
<div class=" highlight hl-ipython2"><pre><span></span><span class="k">print</span> <span class="n">iris</span><span class="o">.</span><span class="n">feature_names</span>
</pre></div>

</div>
</div>
</div>

<div class="output_wrapper">
<div class="output">


<div class="output_area">

<div class="prompt"></div>


<div class="output_subarea output_stream output_stdout output_text">
<pre>[&#39;sepal length (cm)&#39;, &#39;sepal width (cm)&#39;, &#39;petal length (cm)&#39;, &#39;petal width (cm)&#39;]
</pre>
</div>
</div>

</div>
</div>

</div>
<div class="cell border-box-sizing code_cell rendered">
<div class="input">
<div class="prompt input_prompt">In&nbsp;[20]:</div>
<div class="inner_cell">
    <div class="input_area">
<div class=" highlight hl-ipython2"><pre><span></span><span class="k">print</span> <span class="n">iris</span><span class="o">.</span><span class="n">data</span><span class="p">[:</span><span class="mi">10</span><span class="p">]</span>
</pre></div>

</div>
</div>
</div>

<div class="output_wrapper">
<div class="output">


<div class="output_area">

<div class="prompt"></div>


<div class="output_subarea output_stream output_stdout output_text">
<pre>[[ 5.1  3.5  1.4  0.2]
 [ 4.9  3.   1.4  0.2]
 [ 4.7  3.2  1.3  0.2]
 [ 4.6  3.1  1.5  0.2]
 [ 5.   3.6  1.4  0.2]
 [ 5.4  3.9  1.7  0.4]
 [ 4.6  3.4  1.4  0.3]
 [ 5.   3.4  1.5  0.2]
 [ 4.4  2.9  1.4  0.2]
 [ 4.9  3.1  1.5  0.1]]
</pre>
</div>
</div>

</div>
</div>

</div>
<div class="cell border-box-sizing code_cell rendered">
<div class="input">
<div class="prompt input_prompt">In&nbsp;[21]:</div>
<div class="inner_cell">
    <div class="input_area">
<div class=" highlight hl-ipython2"><pre><span></span><span class="k">print</span> <span class="n">iris</span><span class="o">.</span><span class="n">target</span><span class="p">[:</span><span class="mi">150</span><span class="p">]</span>
</pre></div>

</div>
</div>
</div>

<div class="output_wrapper">
<div class="output">


<div class="output_area">

<div class="prompt"></div>


<div class="output_subarea output_stream output_stdout output_text">
<pre>[0 0 0 0 0 0 0 0 0 0 0 0 0 0 0 0 0 0 0 0 0 0 0 0 0 0 0 0 0 0 0 0 0 0 0 0 0 0 0 0 0 0 0 0 0 0 0 0 0 0 1 1 1 1 1 1 1 1 1 1
 1 1 1 1 1 1 1 1 1 1 1 1 1 1 1 1 1 1 1 1 1 1 1 1 1 1 1 1 1 1 1 1 1 1 1 1 1 1 1 1 2 2 2 2 2 2 2 2 2 2 2 2 2 2 2 2 2 2 2 2
 2 2 2 2 2 2 2 2 2 2 2 2 2 2 2 2 2 2 2 2 2 2 2 2 2 2 2 2 2 2]
</pre>
</div>
</div>

</div>
</div>

</div>
<div class="cell border-box-sizing code_cell rendered">
<div class="input">
<div class="prompt input_prompt">In&nbsp;[22]:</div>
<div class="inner_cell">
    <div class="input_area">
<div class=" highlight hl-ipython2"><pre><span></span><span class="k">print</span> <span class="nb">set</span><span class="p">(</span><span class="n">target</span><span class="p">)</span> <span class="c1"># build a collection of unique elements</span>
</pre></div>

</div>
</div>
</div>

<div class="output_wrapper">
<div class="output">


<div class="output_area">

<div class="prompt"></div>


<div class="output_subarea output_stream output_stdout output_text">
<pre>set([0, 1, 2])
</pre>
</div>
</div>

</div>
</div>

</div>
<div class="cell border-box-sizing text_cell rendered"><div class="prompt input_prompt">
</div>
<div class="inner_cell">
<div class="text_cell_render border-box-sizing rendered_html">
<h4 id="This-snippet-uses-the-first-and-the-third-dimension-(sepal-length-and-sepal-width)-and-the-result-is-shown-in-the-following-figure.">This snippet uses the first and the third dimension (sepal length and sepal width) and the result is shown in the following figure.<a class="anchor-link" href="#This-snippet-uses-the-first-and-the-third-dimension-(sepal-length-and-sepal-width)-and-the-result-is-shown-in-the-following-figure.">&#182;</a></h4><h4 id="Classes:--0-=-Iris-Setosa,--1-=-Iris-Versicolour,--2-=-Iris-Virginica">Classes:  0 = Iris-Setosa,  1 = Iris-Versicolour,  2 = Iris-Virginica<a class="anchor-link" href="#Classes:--0-=-Iris-Setosa,--1-=-Iris-Versicolour,--2-=-Iris-Virginica">&#182;</a></h4>
</div>
</div>
</div>
<div class="cell border-box-sizing code_cell rendered">
<div class="input">
<div class="prompt input_prompt">In&nbsp;[23]:</div>
<div class="inner_cell">
    <div class="input_area">
<div class=" highlight hl-ipython2"><pre><span></span><span class="n">pl</span><span class="o">.</span><span class="n">plot</span><span class="p">(</span><span class="n">data</span><span class="p">[</span><span class="n">target</span><span class="o">==</span><span class="mi">0</span><span class="p">,</span><span class="mi">0</span><span class="p">],</span><span class="n">data</span><span class="p">[</span><span class="n">target</span><span class="o">==</span><span class="mi">0</span><span class="p">,</span><span class="mi">2</span><span class="p">],</span><span class="s1">&#39;bo&#39;</span><span class="p">)</span>
<span class="n">pl</span><span class="o">.</span><span class="n">plot</span><span class="p">(</span><span class="n">data</span><span class="p">[</span><span class="n">target</span><span class="o">==</span><span class="mi">1</span><span class="p">,</span><span class="mi">0</span><span class="p">],</span><span class="n">data</span><span class="p">[</span><span class="n">target</span><span class="o">==</span><span class="mi">1</span><span class="p">,</span><span class="mi">2</span><span class="p">],</span><span class="s1">&#39;ro&#39;</span><span class="p">)</span>
<span class="n">pl</span><span class="o">.</span><span class="n">plot</span><span class="p">(</span><span class="n">data</span><span class="p">[</span><span class="n">target</span><span class="o">==</span><span class="mi">2</span><span class="p">,</span><span class="mi">0</span><span class="p">],</span><span class="n">data</span><span class="p">[</span><span class="n">target</span><span class="o">==</span><span class="mi">2</span><span class="p">,</span><span class="mi">2</span><span class="p">],</span><span class="s1">&#39;go&#39;</span><span class="p">)</span>
<span class="n">pl</span><span class="o">.</span><span class="n">legend</span><span class="p">((</span><span class="s1">&#39;Iris-Setosa&#39;</span><span class="p">,</span> <span class="s1">&#39;Iris-Versicolour&#39;</span><span class="p">,</span> <span class="s1">&#39;Iris-Virginica&#39;</span><span class="p">),</span> <span class="n">loc</span><span class="o">=</span><span class="mi">4</span><span class="p">)</span>
<span class="n">pl</span><span class="o">.</span><span class="n">show</span><span class="p">()</span>
</pre></div>

</div>
</div>
</div>

<div class="output_wrapper">
<div class="output">


<div class="output_area">

<div class="prompt"></div>




<div class="output_png output_subarea ">
<img src="data:image/png;base64,iVBORw0KGgoAAAANSUhEUgAAAW8AAAEACAYAAAB8nvebAAAABHNCSVQICAgIfAhkiAAAAAlwSFlz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"
>
</div>

</div>

</div>
</div>

</div>
<div class="cell border-box-sizing text_cell rendered"><div class="prompt input_prompt">
</div>
<div class="inner_cell">
<div class="text_cell_render border-box-sizing rendered_html">
<h4 id="In-the-graph-we-have-150-points-and-their-color-represents-the-class;-the-blue-points-represent-the-samples-that-belong-to-the-specie-setosa,-the-red-ones-represent-versicolor-and-the-green-ones-represent-virginica.-Next-let's-see-if-through-clustering-we-can-obtain-the-correct-classes.">In the graph we have 150 points and their color represents the class; the blue points represent the samples that belong to the specie setosa, the red ones represent versicolor and the green ones represent virginica. Next let's see if through clustering we can obtain the correct classes.<a class="anchor-link" href="#In-the-graph-we-have-150-points-and-their-color-represents-the-class;-the-blue-points-represent-the-samples-that-belong-to-the-specie-setosa,-the-red-ones-represent-versicolor-and-the-green-ones-represent-virginica.-Next-let's-see-if-through-clustering-we-can-obtain-the-correct-classes.">&#182;</a></h4>
</div>
</div>
</div>
<div class="cell border-box-sizing code_cell rendered">
<div class="input">
<div class="prompt input_prompt">In&nbsp;[24]:</div>
<div class="inner_cell">
    <div class="input_area">
<div class=" highlight hl-ipython2"><pre><span></span><span class="n">iris_kmeans</span> <span class="o">=</span> <span class="n">KMeans</span><span class="p">(</span><span class="n">n_clusters</span><span class="o">=</span><span class="mi">3</span><span class="p">,</span> <span class="n">max_iter</span><span class="o">=</span><span class="mi">500</span><span class="p">,</span> <span class="n">verbose</span><span class="o">=</span><span class="mi">1</span><span class="p">,</span> <span class="n">n_init</span><span class="o">=</span><span class="mi">5</span><span class="p">)</span> <span class="c1"># initialization</span>
<span class="n">iris_kmeans</span><span class="o">.</span><span class="n">fit</span><span class="p">(</span><span class="n">data</span><span class="p">)</span>
</pre></div>

</div>
</div>
</div>

<div class="output_wrapper">
<div class="output">


<div class="output_area">

<div class="prompt"></div>


<div class="output_subarea output_stream output_stdout output_text">
<pre>Initialization complete
Iteration  0, inertia 107.660
Iteration  1, inertia 79.204
Iteration  2, inertia 78.941
Converged at iteration 2
Initialization complete
Iteration  0, inertia 133.340
Iteration  1, inertia 79.754
Iteration  2, inertia 78.941
Converged at iteration 2
Initialization complete
Iteration  0, inertia 155.380
Iteration  1, inertia 86.409
Iteration  2, inertia 84.355
Iteration  3, inertia 83.480
Iteration  4, inertia 82.094
Iteration  5, inertia 81.170
Iteration  6, inertia 79.963
Iteration  7, inertia 79.434
Iteration  8, inertia 79.011
Iteration  9, inertia 78.945
Converged at iteration 9
Initialization complete
Iteration  0, inertia 126.550
Iteration  1, inertia 80.452
Iteration  2, inertia 78.945
Converged at iteration 2
Initialization complete
Iteration  0, inertia 104.010
Iteration  1, inertia 79.007
Iteration  2, inertia 78.941
Converged at iteration 2
</pre>
</div>
</div>

<div class="output_area">

<div class="prompt output_prompt">Out[24]:</div>




<div class="output_text output_subarea output_execute_result">
<pre>KMeans(copy_x=True, init=&#39;k-means++&#39;, max_iter=500, n_clusters=3, n_init=5,
    n_jobs=1, precompute_distances=&#39;auto&#39;, random_state=None, tol=0.0001,
    verbose=1)</pre>
</div>

</div>

</div>
</div>

</div>
<div class="cell border-box-sizing code_cell rendered">
<div class="input">
<div class="prompt input_prompt">In&nbsp;[25]:</div>
<div class="inner_cell">
    <div class="input_area">
<div class=" highlight hl-ipython2"><pre><span></span><span class="n">c</span> <span class="o">=</span> <span class="n">iris_kmeans</span><span class="o">.</span><span class="n">predict</span><span class="p">(</span><span class="n">data</span><span class="p">)</span>
</pre></div>

</div>
</div>
</div>

</div>
<div class="cell border-box-sizing code_cell rendered">
<div class="input">
<div class="prompt input_prompt">In&nbsp;[26]:</div>
<div class="inner_cell">
    <div class="input_area">
<div class=" highlight hl-ipython2"><pre><span></span><span class="k">print</span> <span class="n">c</span>
</pre></div>

</div>
</div>
</div>

<div class="output_wrapper">
<div class="output">


<div class="output_area">

<div class="prompt"></div>


<div class="output_subarea output_stream output_stdout output_text">
<pre>[1 1 1 1 1 1 1 1 1 1 1 1 1 1 1 1 1 1 1 1 1 1 1 1 1 1 1 1 1 1 1 1 1 1 1 1 1 1 1 1 1 1 1 1 1 1 1 1 1 1 2 2 0 2 2 2 2 2 2 2
 2 2 2 2 2 2 2 2 2 2 2 2 2 2 2 2 2 0 2 2 2 2 2 2 2 2 2 2 2 2 2 2 2 2 2 2 2 2 2 2 0 2 0 0 0 0 2 0 0 0 0 0 0 2 2 0 0 0 0 2
 0 2 0 2 0 0 2 2 0 0 0 0 0 2 0 0 0 0 2 0 0 0 2 0 0 0 2 0 0 2]
</pre>
</div>
</div>

</div>
</div>

</div>
<div class="cell border-box-sizing code_cell rendered">
<div class="input">
<div class="prompt input_prompt">In&nbsp;[27]:</div>
<div class="inner_cell">
    <div class="input_area">
<div class=" highlight hl-ipython2"><pre><span></span><span class="n">c</span><span class="o">.</span><span class="n">shape</span>
</pre></div>

</div>
</div>
</div>

<div class="output_wrapper">
<div class="output">


<div class="output_area">

<div class="prompt output_prompt">Out[27]:</div>




<div class="output_text output_subarea output_execute_result">
<pre>(150L,)</pre>
</div>

</div>

</div>
</div>

</div>
<div class="cell border-box-sizing code_cell rendered">
<div class="input">
<div class="prompt input_prompt">In&nbsp;[28]:</div>
<div class="inner_cell">
    <div class="input_area">
<div class=" highlight hl-ipython2"><pre><span></span><span class="n">target</span><span class="o">.</span><span class="n">shape</span>
</pre></div>

</div>
</div>
</div>

<div class="output_wrapper">
<div class="output">


<div class="output_area">

<div class="prompt output_prompt">Out[28]:</div>




<div class="output_text output_subarea output_execute_result">
<pre>(150L,)</pre>
</div>

</div>

</div>
</div>

</div>
<div class="cell border-box-sizing code_cell rendered">
<div class="input">
<div class="prompt input_prompt">In&nbsp;[29]:</div>
<div class="inner_cell">
    <div class="input_area">
<div class=" highlight hl-ipython2"><pre><span></span><span class="k">print</span> <span class="n">target</span>
</pre></div>

</div>
</div>
</div>

<div class="output_wrapper">
<div class="output">


<div class="output_area">

<div class="prompt"></div>


<div class="output_subarea output_stream output_stdout output_text">
<pre>[0 0 0 0 0 0 0 0 0 0 0 0 0 0 0 0 0 0 0 0 0 0 0 0 0 0 0 0 0 0 0 0 0 0 0 0 0 0 0 0 0 0 0 0 0 0 0 0 0 0 1 1 1 1 1 1 1 1 1 1
 1 1 1 1 1 1 1 1 1 1 1 1 1 1 1 1 1 1 1 1 1 1 1 1 1 1 1 1 1 1 1 1 1 1 1 1 1 1 1 1 2 2 2 2 2 2 2 2 2 2 2 2 2 2 2 2 2 2 2 2
 2 2 2 2 2 2 2 2 2 2 2 2 2 2 2 2 2 2 2 2 2 2 2 2 2 2 2 2 2 2]
</pre>
</div>
</div>

</div>
</div>

</div>
<div class="cell border-box-sizing text_cell rendered"><div class="prompt input_prompt">
</div>
<div class="inner_cell">
<div class="text_cell_render border-box-sizing rendered_html">
<h4 id="Since-we-know-what-the-classes-are,-we-can-evaluate-clustering-performance-by-using-metrics-that-compatre-clusters-to-the-actual-classes:">Since we know what the classes are, we can evaluate clustering performance by using metrics that compatre clusters to the actual classes:<a class="anchor-link" href="#Since-we-know-what-the-classes-are,-we-can-evaluate-clustering-performance-by-using-metrics-that-compatre-clusters-to-the-actual-classes:">&#182;</a></h4>
</div>
</div>
</div>
<div class="cell border-box-sizing text_cell rendered"><div class="prompt input_prompt">
</div>
<div class="inner_cell">
<div class="text_cell_render border-box-sizing rendered_html">
<h4 id="Homogeneity:-each-cluster-contains-only-members-of-a-single-class.-Completeness:-all-members-of-a-given-class-are-assigned-to-the-same-cluster.">Homogeneity: each cluster contains only members of a single class. Completeness: all members of a given class are assigned to the same cluster.<a class="anchor-link" href="#Homogeneity:-each-cluster-contains-only-members-of-a-single-class.-Completeness:-all-members-of-a-given-class-are-assigned-to-the-same-cluster.">&#182;</a></h4>
</div>
</div>
</div>
<div class="cell border-box-sizing code_cell rendered">
<div class="input">
<div class="prompt input_prompt">In&nbsp;[30]:</div>
<div class="inner_cell">
    <div class="input_area">
<div class=" highlight hl-ipython2"><pre><span></span><span class="kn">from</span> <span class="nn">sklearn.metrics</span> <span class="kn">import</span> <span class="n">completeness_score</span><span class="p">,</span> <span class="n">homogeneity_score</span>
</pre></div>

</div>
</div>
</div>

</div>
<div class="cell border-box-sizing code_cell rendered">
<div class="input">
<div class="prompt input_prompt">In&nbsp;[31]:</div>
<div class="inner_cell">
    <div class="input_area">
<div class=" highlight hl-ipython2"><pre><span></span><span class="k">print</span> <span class="n">completeness_score</span><span class="p">(</span><span class="n">target</span><span class="p">,</span><span class="n">c</span><span class="p">)</span>
</pre></div>

</div>
</div>
</div>

<div class="output_wrapper">
<div class="output">


<div class="output_area">

<div class="prompt"></div>


<div class="output_subarea output_stream output_stdout output_text">
<pre>0.764986151449
</pre>
</div>
</div>

</div>
</div>

</div>
<div class="cell border-box-sizing code_cell rendered">
<div class="input">
<div class="prompt input_prompt">In&nbsp;[32]:</div>
<div class="inner_cell">
    <div class="input_area">
<div class=" highlight hl-ipython2"><pre><span></span><span class="k">print</span> <span class="n">homogeneity_score</span><span class="p">(</span><span class="n">target</span><span class="p">,</span><span class="n">c</span><span class="p">)</span>
</pre></div>

</div>
</div>
</div>

<div class="output_wrapper">
<div class="output">


<div class="output_area">

<div class="prompt"></div>


<div class="output_subarea output_stream output_stdout output_text">
<pre>0.751485402199
</pre>
</div>
</div>

</div>
</div>

</div>
<div class="cell border-box-sizing text_cell rendered"><div class="prompt input_prompt">
</div>
<div class="inner_cell">
<div class="text_cell_render border-box-sizing rendered_html">
<h4 id="The-completeness-score-approaches-1-when-most-of-the-data-points-that-are-members-of-a-given-class-are-elements-of-the-same-cluster-while-the-homogeneity-score-approaches-1-when-all-the-clusters-contain-almost-only-data-points-that-are-member-of-a-single-class.">The completeness score approaches 1 when most of the data points that are members of a given class are elements of the same cluster while the homogeneity score approaches 1 when all the clusters contain almost only data points that are member of a single class.<a class="anchor-link" href="#The-completeness-score-approaches-1-when-most-of-the-data-points-that-are-members-of-a-given-class-are-elements-of-the-same-cluster-while-the-homogeneity-score-approaches-1-when-all-the-clusters-contain-almost-only-data-points-that-are-member-of-a-single-class.">&#182;</a></h4>
</div>
</div>
</div>
<div class="cell border-box-sizing code_cell rendered">
<div class="input">
<div class="prompt input_prompt">In&nbsp;[33]:</div>
<div class="inner_cell">
    <div class="input_area">
<div class=" highlight hl-ipython2"><pre><span></span><span class="k">print</span> <span class="n">iris_kmeans</span><span class="o">.</span><span class="n">cluster_centers_</span>
</pre></div>

</div>
</div>
</div>

<div class="output_wrapper">
<div class="output">


<div class="output_area">

<div class="prompt"></div>


<div class="output_subarea output_stream output_stdout output_text">
<pre>[[ 6.85  3.07  5.74  2.07]
 [ 5.01  3.42  1.46  0.24]
 [ 5.9   2.75  4.39  1.43]]
</pre>
</div>
</div>

</div>
</div>

</div>
<div class="cell border-box-sizing code_cell rendered">
<div class="input">
<div class="prompt input_prompt">In&nbsp;[34]:</div>
<div class="inner_cell">
    <div class="input_area">
<div class=" highlight hl-ipython2"><pre><span></span><span class="n">pl</span><span class="o">.</span><span class="n">plot</span><span class="p">(</span><span class="n">data</span><span class="p">[</span><span class="n">c</span><span class="o">==</span><span class="mi">1</span><span class="p">,</span><span class="mi">0</span><span class="p">],</span><span class="n">data</span><span class="p">[</span><span class="n">c</span><span class="o">==</span><span class="mi">1</span><span class="p">,</span><span class="mi">2</span><span class="p">],</span><span class="s1">&#39;ro&#39;</span><span class="p">)</span>
<span class="n">pl</span><span class="o">.</span><span class="n">plot</span><span class="p">(</span><span class="n">data</span><span class="p">[</span><span class="n">c</span><span class="o">==</span><span class="mi">0</span><span class="p">,</span><span class="mi">0</span><span class="p">],</span><span class="n">data</span><span class="p">[</span><span class="n">c</span><span class="o">==</span><span class="mi">0</span><span class="p">,</span><span class="mi">2</span><span class="p">],</span><span class="s1">&#39;bo&#39;</span><span class="p">)</span>
<span class="n">pl</span><span class="o">.</span><span class="n">plot</span><span class="p">(</span><span class="n">data</span><span class="p">[</span><span class="n">c</span><span class="o">==</span><span class="mi">2</span><span class="p">,</span><span class="mi">0</span><span class="p">],</span><span class="n">data</span><span class="p">[</span><span class="n">c</span><span class="o">==</span><span class="mi">2</span><span class="p">,</span><span class="mi">2</span><span class="p">],</span><span class="s1">&#39;go&#39;</span><span class="p">)</span>
<span class="n">pl</span><span class="o">.</span><span class="n">show</span><span class="p">()</span>
</pre></div>

</div>
</div>
</div>

<div class="output_wrapper">
<div class="output">


<div class="output_area">

<div class="prompt"></div>




<div class="output_png output_subarea ">
<img src="data:image/png;base64,iVBORw0KGgoAAAANSUhEUgAAAW8AAAEACAYAAAB8nvebAAAABHNCSVQICAgIfAhkiAAAAAlwSFlz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==
"
>
</div>

</div>

</div>
</div>

</div>
<div class="cell border-box-sizing code_cell rendered">
<div class="input">
<div class="prompt input_prompt">In&nbsp;[35]:</div>
<div class="inner_cell">
    <div class="input_area">
<div class=" highlight hl-ipython2"><pre><span></span><span class="n">cd</span> <span class="n">D</span><span class="p">:</span>\<span class="n">Documents</span>\<span class="n">Class</span>\<span class="n">CSC478</span>\<span class="n">Data</span>
</pre></div>

</div>
</div>
</div>

<div class="output_wrapper">
<div class="output">


<div class="output_area">

<div class="prompt"></div>


<div class="output_subarea output_stream output_stdout output_text">
<pre>D:\Documents\Class\CSC478\Data
</pre>
</div>
</div>

</div>
</div>

</div>
<div class="cell border-box-sizing text_cell rendered"><div class="prompt input_prompt">
</div>
<div class="inner_cell">
<div class="text_cell_render border-box-sizing rendered_html">
<h4 id="Let's-now-use-the-kMeans-clustering-implementation-from-Machine-Learning-in-Action,-Ch.-10:">Let's now use the kMeans clustering implementation from Machine Learning in Action, Ch. 10:<a class="anchor-link" href="#Let's-now-use-the-kMeans-clustering-implementation-from-Machine-Learning-in-Action,-Ch.-10:">&#182;</a></h4>
</div>
</div>
</div>
<div class="cell border-box-sizing code_cell rendered">
<div class="input">
<div class="prompt input_prompt">In&nbsp;[36]:</div>
<div class="inner_cell">
    <div class="input_area">
<div class=" highlight hl-ipython2"><pre><span></span><span class="kn">import</span> <span class="nn">kMeans</span>
</pre></div>

</div>
</div>
</div>

</div>
<div class="cell border-box-sizing code_cell rendered">
<div class="input">
<div class="prompt input_prompt">In&nbsp;[37]:</div>
<div class="inner_cell">
    <div class="input_area">
<div class=" highlight hl-ipython2"><pre><span></span><span class="nb">reload</span><span class="p">(</span><span class="n">kMeans</span><span class="p">)</span>
</pre></div>

</div>
</div>
</div>

<div class="output_wrapper">
<div class="output">


<div class="output_area">

<div class="prompt output_prompt">Out[37]:</div>




<div class="output_text output_subarea output_execute_result">
<pre>&lt;module &#39;kMeans&#39; from &#39;kMeans.pyc&#39;&gt;</pre>
</div>

</div>

</div>
</div>

</div>
<div class="cell border-box-sizing code_cell rendered">
<div class="input">
<div class="prompt input_prompt">In&nbsp;[38]:</div>
<div class="inner_cell">
    <div class="input_area">
<div class=" highlight hl-ipython2"><pre><span></span><span class="n">centroids</span><span class="p">,</span> <span class="n">clusters</span> <span class="o">=</span> <span class="n">kMeans</span><span class="o">.</span><span class="n">kMeans</span><span class="p">(</span><span class="n">data</span><span class="p">,</span> <span class="mi">3</span><span class="p">,</span> <span class="n">kMeans</span><span class="o">.</span><span class="n">distEuclid</span><span class="p">,</span> <span class="n">kMeans</span><span class="o">.</span><span class="n">randCent</span><span class="p">)</span>
</pre></div>

</div>
</div>
</div>

<div class="output_wrapper">
<div class="output">


<div class="output_area">

<div class="prompt"></div>


<div class="output_subarea output_stream output_stdout output_text">
<pre>Iteration  1
Iteration  2
Iteration  3
Iteration  4
Iteration  5
</pre>
</div>
</div>

</div>
</div>

</div>
<div class="cell border-box-sizing code_cell rendered">
<div class="input">
<div class="prompt input_prompt">In&nbsp;[39]:</div>
<div class="inner_cell">
    <div class="input_area">
<div class=" highlight hl-ipython2"><pre><span></span><span class="k">print</span> <span class="n">centroids</span>
</pre></div>

</div>
</div>
</div>

<div class="output_wrapper">
<div class="output">


<div class="output_area">

<div class="prompt"></div>


<div class="output_subarea output_stream output_stdout output_text">
<pre>[[ 6.85  3.08  5.72  2.05]
 [ 5.01  3.42  1.46  0.24]
 [ 5.88  2.74  4.39  1.43]]
</pre>
</div>
</div>

</div>
</div>

</div>
<div class="cell border-box-sizing code_cell rendered">
<div class="input">
<div class="prompt input_prompt">In&nbsp;[40]:</div>
<div class="inner_cell">
    <div class="input_area">
<div class=" highlight hl-ipython2"><pre><span></span><span class="k">print</span> <span class="n">clusters</span>
</pre></div>

</div>
</div>
</div>

<div class="output_wrapper">
<div class="output">


<div class="output_area">

<div class="prompt"></div>


<div class="output_subarea output_stream output_stdout output_text">
<pre>[[ 1.    0.02]
 [ 1.    0.19]
 [ 1.    0.17]
 [ 1.    0.27]
 [ 1.    0.04]
 [ 1.    0.47]
 [ 1.    0.17]
 [ 1.    0.  ]
 [ 1.    0.64]
 [ 1.    0.13]
 [ 1.    0.24]
 [ 1.    0.06]
 [ 1.    0.24]
 [ 1.    0.83]
 [ 1.    1.04]
 [ 1.    1.47]
 [ 1.    0.44]
 [ 1.    0.02]
 [ 1.    0.69]
 [ 1.    0.16]
 [ 1.    0.21]
 [ 1.    0.11]
 [ 1.    0.42]
 [ 1.    0.14]
 [ 1.    0.23]
 [ 1.    0.2 ]
 [ 1.    0.04]
 [ 1.    0.05]
 [ 1.    0.04]
 [ 1.    0.16]
 [ 1.    0.16]
 [ 1.    0.18]
 [ 1.    0.52]
 [ 1.    0.86]
 [ 1.    0.13]
 [ 1.    0.12]
 [ 1.    0.28]
 [ 1.    0.13]
 [ 1.    0.57]
 [ 1.    0.01]
 [ 1.    0.04]
 [ 1.    1.54]
 [ 1.    0.44]
 [ 1.    0.15]
 [ 1.    0.37]
 [ 1.    0.22]
 [ 1.    0.18]
 [ 1.    0.22]
 [ 1.    0.17]
 [ 1.    0.02]
 [ 0.    1.5 ]
 [ 2.    0.49]
 [ 0.    0.97]
 [ 2.    0.51]
 [ 2.    0.43]
 [ 2.    0.07]
 [ 2.    0.61]
 [ 2.    2.46]
 [ 2.    0.6 ]
 [ 2.    0.71]
 [ 2.    2.31]
 [ 2.    0.11]
 [ 2.    0.65]
 [ 2.    0.17]
 [ 2.    0.75]
 [ 2.    0.8 ]
 [ 2.    0.16]
 [ 2.    0.28]
 [ 2.    0.41]
 [ 2.    0.49]
 [ 2.    0.51]
 [ 2.    0.22]
 [ 2.    0.5 ]
 [ 2.    0.2 ]
 [ 2.    0.32]
 [ 2.    0.58]
 [ 2.    1.01]
 [ 0.    0.67]
 [ 2.    0.06]
 [ 2.    1.03]
 [ 2.    0.72]
 [ 2.    0.93]
 [ 2.    0.3 ]
 [ 2.    0.55]
 [ 2.    0.32]
 [ 2.    0.49]
 [ 2.    0.9 ]
 [ 2.    0.39]
 [ 2.    0.25]
 [ 2.    0.37]
 [ 2.    0.22]
 [ 2.    0.16]
 [ 2.    0.23]
 [ 2.    2.35]
 [ 2.    0.14]
 [ 2.    0.19]
 [ 2.    0.11]
 [ 2.    0.15]
 [ 2.    2.71]
 [ 2.    0.14]
 [ 0.    0.64]
 [ 2.    0.73]
 [ 0.    0.1 ]
 [ 0.    0.42]
 [ 0.    0.16]
 [ 0.    1.35]
 [ 2.    1.11]
 [ 0.    0.64]
 [ 0.    0.43]
 [ 0.    0.74]
 [ 0.    0.52]
 [ 0.    0.54]
 [ 0.    0.06]
 [ 2.    0.79]
 [ 2.    1.45]
 [ 0.    0.45]
 [ 0.    0.24]
 [ 0.    2.23]
 [ 0.    2.41]
 [ 2.    0.68]
 [ 0.    0.08]
 [ 2.    0.67]
 [ 0.    1.77]
 [ 2.    0.57]
 [ 0.    0.08]
 [ 0.    0.28]
 [ 2.    0.41]
 [ 2.    0.51]
 [ 0.    0.3 ]
 [ 0.    0.34]
 [ 0.    0.55]
 [ 0.    2.09]
 [ 0.    0.32]
 [ 2.    0.69]
 [ 0.    1.24]
 [ 0.    0.93]
 [ 0.    0.54]
 [ 0.    0.32]
 [ 2.    0.38]
 [ 0.    0.1 ]
 [ 0.    0.16]
 [ 0.    0.44]
 [ 2.    0.73]
 [ 0.    0.11]
 [ 0.    0.27]
 [ 0.    0.36]
 [ 2.    0.82]
 [ 0.    0.4 ]
 [ 0.    0.69]
 [ 2.    0.71]]
</pre>
</div>
</div>

</div>
</div>

</div>
<div class="cell border-box-sizing code_cell rendered">
<div class="input">
<div class="prompt input_prompt">In&nbsp;[41]:</div>
<div class="inner_cell">
    <div class="input_area">
<div class=" highlight hl-ipython2"><pre><span></span><span class="n">newC</span> <span class="o">=</span> <span class="n">clusters</span><span class="o">.</span><span class="n">T</span><span class="p">[</span><span class="mi">0</span><span class="p">]</span>
<span class="k">print</span> <span class="n">newC</span>
</pre></div>

</div>
</div>
</div>

<div class="output_wrapper">
<div class="output">


<div class="output_area">

<div class="prompt"></div>


<div class="output_subarea output_stream output_stdout output_text">
<pre>[ 1.  1.  1.  1.  1.  1.  1.  1.  1.  1.  1.  1.  1.  1.  1.  1.  1.  1.  1.  1.  1.  1.  1.  1.  1.  1.  1.  1.  1.  1.
  1.  1.  1.  1.  1.  1.  1.  1.  1.  1.  1.  1.  1.  1.  1.  1.  1.  1.  1.  1.  0.  2.  0.  2.  2.  2.  2.  2.  2.  2.
  2.  2.  2.  2.  2.  2.  2.  2.  2.  2.  2.  2.  2.  2.  2.  2.  2.  0.  2.  2.  2.  2.  2.  2.  2.  2.  2.  2.  2.  2.
  2.  2.  2.  2.  2.  2.  2.  2.  2.  2.  0.  2.  0.  0.  0.  0.  2.  0.  0.  0.  0.  0.  0.  2.  2.  0.  0.  0.  0.  2.
  0.  2.  0.  2.  0.  0.  2.  2.  0.  0.  0.  0.  0.  2.  0.  0.  0.  0.  2.  0.  0.  0.  2.  0.  0.  0.  2.  0.  0.  2.]
</pre>
</div>
</div>

</div>
</div>

</div>
<div class="cell border-box-sizing code_cell rendered">
<div class="input">
<div class="prompt input_prompt">In&nbsp;[42]:</div>
<div class="inner_cell">
    <div class="input_area">
<div class=" highlight hl-ipython2"><pre><span></span><span class="n">newC</span> <span class="o">=</span> <span class="n">newC</span><span class="o">.</span><span class="n">astype</span><span class="p">(</span><span class="nb">int</span><span class="p">)</span>
<span class="k">print</span> <span class="n">newC</span>
</pre></div>

</div>
</div>
</div>

<div class="output_wrapper">
<div class="output">


<div class="output_area">

<div class="prompt"></div>


<div class="output_subarea output_stream output_stdout output_text">
<pre>[1 1 1 1 1 1 1 1 1 1 1 1 1 1 1 1 1 1 1 1 1 1 1 1 1 1 1 1 1 1 1 1 1 1 1 1 1 1 1 1 1 1 1 1 1 1 1 1 1 1 0 2 0 2 2 2 2 2 2 2
 2 2 2 2 2 2 2 2 2 2 2 2 2 2 2 2 2 0 2 2 2 2 2 2 2 2 2 2 2 2 2 2 2 2 2 2 2 2 2 2 0 2 0 0 0 0 2 0 0 0 0 0 0 2 2 0 0 0 0 2
 0 2 0 2 0 0 2 2 0 0 0 0 0 2 0 0 0 0 2 0 0 0 2 0 0 0 2 0 0 2]
</pre>
</div>
</div>

</div>
</div>

</div>
<div class="cell border-box-sizing code_cell rendered">
<div class="input">
<div class="prompt input_prompt">In&nbsp;[43]:</div>
<div class="inner_cell">
    <div class="input_area">
<div class=" highlight hl-ipython2"><pre><span></span><span class="k">print</span> <span class="n">completeness_score</span><span class="p">(</span><span class="n">target</span><span class="p">,</span><span class="n">newC</span><span class="p">)</span>
</pre></div>

</div>
</div>
</div>

<div class="output_wrapper">
<div class="output">


<div class="output_area">

<div class="prompt"></div>


<div class="output_subarea output_stream output_stdout output_text">
<pre>0.74748658051
</pre>
</div>
</div>

</div>
</div>

</div>
<div class="cell border-box-sizing code_cell rendered">
<div class="input">
<div class="prompt input_prompt">In&nbsp;[44]:</div>
<div class="inner_cell">
    <div class="input_area">
<div class=" highlight hl-ipython2"><pre><span></span><span class="k">print</span> <span class="n">homogeneity_score</span><span class="p">(</span><span class="n">target</span><span class="p">,</span><span class="n">newC</span><span class="p">)</span>
</pre></div>

</div>
</div>
</div>

<div class="output_wrapper">
<div class="output">


<div class="output_area">

<div class="prompt"></div>


<div class="output_subarea output_stream output_stdout output_text">
<pre>0.736419288125
</pre>
</div>
</div>

</div>
</div>

</div>
<div class="cell border-box-sizing code_cell rendered">
<div class="input">
<div class="prompt input_prompt">In&nbsp;[45]:</div>
<div class="inner_cell">
    <div class="input_area">
<div class=" highlight hl-ipython2"><pre><span></span><span class="nb">reload</span><span class="p">(</span><span class="n">kMeans</span><span class="p">)</span>
</pre></div>

</div>
</div>
</div>

<div class="output_wrapper">
<div class="output">


<div class="output_area">

<div class="prompt output_prompt">Out[45]:</div>




<div class="output_text output_subarea output_execute_result">
<pre>&lt;module &#39;kMeans&#39; from &#39;kMeans.pyc&#39;&gt;</pre>
</div>

</div>

</div>
</div>

</div>
<div class="cell border-box-sizing code_cell rendered">
<div class="input">
<div class="prompt input_prompt">In&nbsp;[46]:</div>
<div class="inner_cell">
    <div class="input_area">
<div class=" highlight hl-ipython2"><pre><span></span><span class="n">centroids_bk</span><span class="p">,</span> <span class="n">clusters_bk</span> <span class="o">=</span> <span class="n">kMeans</span><span class="o">.</span><span class="n">biKmeans</span><span class="p">(</span><span class="n">data</span><span class="p">,</span> <span class="mi">3</span><span class="p">,</span> <span class="n">kMeans</span><span class="o">.</span><span class="n">distEuclid</span><span class="p">)</span>
</pre></div>

</div>
</div>
</div>

<div class="output_wrapper">
<div class="output">


<div class="output_area">

<div class="prompt"></div>


<div class="output_subarea output_stream output_stdout output_text">
<pre>Iteration  1
Iteration  2
Iteration  3
sseSplit, and notSplit:  152.368706477 0.0
the bestCentToSplit is:  0
the len of bestClustAss is:  150
Iteration  1
Iteration  2
Iteration  3
Iteration  4
Iteration  5
sseSplit, and notSplit:  55.651677074 28.5728301887
Iteration  1
Iteration  2
Iteration  3
Iteration  4
Iteration  5
Iteration  6
sseSplit, and notSplit:  19.5377246377 123.795876289
the bestCentToSplit is:  0
the len of bestClustAss is:  97
</pre>
</div>
</div>

</div>
</div>

</div>
<div class="cell border-box-sizing code_cell rendered">
<div class="input">
<div class="prompt input_prompt">In&nbsp;[47]:</div>
<div class="inner_cell">
    <div class="input_area">
<div class=" highlight hl-ipython2"><pre><span></span><span class="k">print</span> <span class="n">centroids_bk</span>
</pre></div>

</div>
</div>
</div>

<div class="output_wrapper">
<div class="output">


<div class="output_area">

<div class="prompt"></div>


<div class="output_subarea output_stream output_stdout output_text">
<pre>[[ 6.85  5.01  5.95]]
</pre>
</div>
</div>

</div>
</div>

</div>
<div class="cell border-box-sizing code_cell rendered">
<div class="input">
<div class="prompt input_prompt">In&nbsp;[48]:</div>
<div class="inner_cell">
    <div class="input_area">
<div class=" highlight hl-ipython2"><pre><span></span><span class="n">bkC</span> <span class="o">=</span> <span class="n">clusters_bk</span><span class="o">.</span><span class="n">T</span><span class="p">[</span><span class="mi">0</span><span class="p">]</span>
<span class="n">bkC</span> <span class="o">=</span> <span class="n">bkC</span><span class="o">.</span><span class="n">astype</span><span class="p">(</span><span class="nb">int</span><span class="p">)</span>
</pre></div>

</div>
</div>
</div>

</div>
<div class="cell border-box-sizing code_cell rendered">
<div class="input">
<div class="prompt input_prompt">In&nbsp;[49]:</div>
<div class="inner_cell">
    <div class="input_area">
<div class=" highlight hl-ipython2"><pre><span></span><span class="k">print</span> <span class="n">bkC</span>
</pre></div>

</div>
</div>
</div>

<div class="output_wrapper">
<div class="output">


<div class="output_area">

<div class="prompt"></div>


<div class="output_subarea output_stream output_stdout output_text">
<pre>[[1 1 1 1 1 1 1 1 1 1 1 1 1 1 1 1 1 1 1 1 1 1 1 1 1 1 1 1 1 1 1 1 1 1 1 1 1 1 1 1 1 1 1 1 1 1 1 1 1 1 2 2 0 2 2 2 2 1 2
  2 2 2 2 2 2 2 2 2 2 2 2 2 2 2 2 2 2 0 2 2 2 2 2 2 2 2 2 2 2 2 2 2 2 1 2 2 2 2 1 2 0 2 0 0 0 0 2 0 0 0 0 0 0 2 2 0 0 0
  0 2 0 2 0 2 0 0 2 2 0 0 0 0 0 2 0 0 0 0 2 0 0 0 2 0 0 0 2 0 0 2]]
</pre>
</div>
</div>

</div>
</div>

</div>
<div class="cell border-box-sizing code_cell rendered">
<div class="input">
<div class="prompt input_prompt">In&nbsp;[50]:</div>
<div class="inner_cell">
    <div class="input_area">
<div class=" highlight hl-ipython2"><pre><span></span><span class="n">bkC</span> <span class="o">=</span> <span class="n">np</span><span class="o">.</span><span class="n">ravel</span><span class="p">(</span><span class="n">bkC</span><span class="p">)</span>
<span class="k">print</span> <span class="n">bkC</span>
</pre></div>

</div>
</div>
</div>

<div class="output_wrapper">
<div class="output">


<div class="output_area">

<div class="prompt"></div>


<div class="output_subarea output_stream output_stdout output_text">
<pre>[1 1 1 1 1 1 1 1 1 1 1 1 1 1 1 1 1 1 1 1 1 1 1 1 1 1 1 1 1 1 1 1 1 1 1 1 1 1 1 1 1 1 1 1 1 1 1 1 1 1 2 2 0 2 2 2 2 1 2 2
 2 2 2 2 2 2 2 2 2 2 2 2 2 2 2 2 2 0 2 2 2 2 2 2 2 2 2 2 2 2 2 2 2 1 2 2 2 2 1 2 0 2 0 0 0 0 2 0 0 0 0 0 0 2 2 0 0 0 0 2
 0 2 0 2 0 0 2 2 0 0 0 0 0 2 0 0 0 0 2 0 0 0 2 0 0 0 2 0 0 2]
</pre>
</div>
</div>

</div>
</div>

</div>
<div class="cell border-box-sizing code_cell rendered">
<div class="input">
<div class="prompt input_prompt">In&nbsp;[51]:</div>
<div class="inner_cell">
    <div class="input_area">
<div class=" highlight hl-ipython2"><pre><span></span><span class="k">print</span> <span class="n">completeness_score</span><span class="p">(</span><span class="n">target</span><span class="p">,</span><span class="n">bkC</span><span class="p">)</span>
</pre></div>

</div>
</div>
</div>

<div class="output_wrapper">
<div class="output">


<div class="output_area">

<div class="prompt"></div>


<div class="output_subarea output_stream output_stdout output_text">
<pre>0.696570598725
</pre>
</div>
</div>

</div>
</div>

</div>
<div class="cell border-box-sizing code_cell rendered">
<div class="input">
<div class="prompt input_prompt">In&nbsp;[52]:</div>
<div class="inner_cell">
    <div class="input_area">
<div class=" highlight hl-ipython2"><pre><span></span><span class="k">print</span> <span class="n">homogeneity_score</span><span class="p">(</span><span class="n">target</span><span class="p">,</span><span class="n">bkC</span><span class="p">)</span>
</pre></div>

</div>
</div>
</div>

<div class="output_wrapper">
<div class="output">


<div class="output_area">

<div class="prompt"></div>


<div class="output_subarea output_stream output_stdout output_text">
<pre>0.686320173949
</pre>
</div>
</div>

</div>
</div>

</div>
 


    </div>
  </div>

  </div>


  
    <footer class="footer hidden-print">
      <div class="container">
        <div class="col-md-4">
          <p>
            This website does not host notebooks, it only renders notebooks
            available on other websites.
          </p>
        </div>

        <div class="col-md-4">
          <p>
            Delivered by <a href="http://www.fastly.com/">Fastly</a>,
            Rendered by <a href="https://developer.rackspace.com/?nbviewer=awesome">Rackspace</a>
          </p>
          <p>
            nbviewer GitHub <a href="https://github.com/jupyter/nbviewer">repository</a>.
          </p>
        </div>

        <div class="col-md-4">
          
  
            
              <p>
                nbviewer version:
                <a href="https://github.com/jupyter/nbviewer/commit/aa567da928dd022ce6a75b6c131a5ef3ff5c211a">
                  aa567da
                </a>
              </p>
            
          
  
  <p>
    nbconvert version: <a href="https://github.com/jupyter/nbconvert/releases/tag/5.3.1">
      5.3.1
    </a>
  </p>
  

          
  
  
  <p>
    Rendered
    <span class='date' data-date='Tue, 06 Nov 2018 22:31:29 UTC' title='Tue, 06 Nov 2018 22:31:29 UTC'>(Tue, 06 Nov 2018 22:31:29 UTC)</span>
  </p>
  

        </div>
      </div>
    </footer>
  

  <script data-cfasync="false" src="/cdn-cgi/scripts/5c5dd728/cloudflare-static/email-decode.min.js"></script><script src="/static/components/bootstrap/js/bootstrap.min.js?v=5869c96cc8f19086aee625d670d741f9"></script>
  <script src="/static/components/headroom.js/dist/headroom.min.js?v=b0a311ea668f8e768ea375f4a7abb81c"></script>
  <script src="/static/components/headroom.js/dist/jQuery.headroom.min.js?v=f3a1bae118315d0c234afc74dc6aab71"></script>

  
  
  <script>
    $(function(){ $("#menubar").headroom({
      tolerance: 5,
      offset: 205,
      classes: {
        initial: "animated",
        pinned: "slideInDown",
        unpinned: "slideOutUp"
      }
    })});
  </script>


  
  <script>
    (function(i,s,o,g,r,a,m){i['GoogleAnalyticsObject']=r;i[r]=i[r]||function(){
      (i[r].q=i[r].q||[]).push(arguments)},i[r].l=1*new Date();a=s.createElement(o),
      m=s.getElementsByTagName(o)[0];a.async=1;a.src=g;m.parentNode.insertBefore(a,m)
    })(window,document,'script','https://www.google-analytics.com/analytics.js','ga');
    ga('create', 'UA-52617120-5', 'auto',
       {'storage': 'none'});
    ga('set', 'anonymizeIp', true);
    ga('send', 'pageview');
  </script>
  
  <script>
    require({
        paths: {
          moment: "/static/components/moment/min/moment.min.js?v=89f87298ad94aa1e6b92f42eb66da043"
        }
      }, ["moment"], function(moment){
      var date = $("footer .date"),
        m = moment(new Date(date.data('date'))),
        update = function(){ date.text(m.fromNow()); };
      setInterval(update, 61*1000);
      update();
      var w = $(window).scroll(function(event){
        $("body").toggleClass("scrolled", w.scrollTop() > 0);
      });
    });
  </script>

  <!--NEW RELIC Stop Perf Measurement-->
  
  <!--NEW RELIC End-->
</body>
</html>