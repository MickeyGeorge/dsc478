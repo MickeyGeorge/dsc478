{
 "cells": [
  {
   "cell_type": "markdown",
   "metadata": {},
   "source": [
    "#### Example of Regression Analysis Using the Boston Housing Data Set."
   ]
  },
  {
   "cell_type": "code",
   "execution_count": 1,
   "metadata": {},
   "outputs": [
    {
     "name": "stderr",
     "output_type": "stream",
     "text": [
      "C:\\ProgramData\\Anaconda2\\lib\\site-packages\\sklearn\\cross_validation.py:41: DeprecationWarning: This module was deprecated in version 0.18 in favor of the model_selection module into which all the refactored classes and functions are moved. Also note that the interface of the new CV iterators are different from that of this module. This module will be removed in 0.20.\n",
      "  \"This module will be removed in 0.20.\", DeprecationWarning)\n"
     ]
    }
   ],
   "source": [
    "from sklearn.cross_validation import KFold\n",
    "from sklearn.linear_model import LinearRegression, Lasso, Ridge, ElasticNet, SGDRegressor\n",
    "import numpy as np\n",
    "import pylab as pl\n"
   ]
  },
  {
   "cell_type": "code",
   "execution_count": 2,
   "metadata": {},
   "outputs": [],
   "source": [
    "from sklearn.datasets import load_boston\n",
    "boston = load_boston()"
   ]
  },
  {
   "cell_type": "code",
   "execution_count": 3,
   "metadata": {},
   "outputs": [
    {
     "name": "stdout",
     "output_type": "stream",
     "text": [
      "Boston House Prices dataset\n",
      "===========================\n",
      "\n",
      "Notes\n",
      "------\n",
      "Data Set Characteristics:  \n",
      "\n",
      "    :Number of Instances: 506 \n",
      "\n",
      "    :Number of Attributes: 13 numeric/categorical predictive\n",
      "    \n",
      "    :Median Value (attribute 14) is usually the target\n",
      "\n",
      "    :Attribute Information (in order):\n",
      "        - CRIM     per capita crime rate by town\n",
      "        - ZN       proportion of residential land zoned for lots over 25,000 sq.ft.\n",
      "        - INDUS    proportion of non-retail business acres per town\n",
      "        - CHAS     Charles River dummy variable (= 1 if tract bounds river; 0 otherwise)\n",
      "        - NOX      nitric oxides concentration (parts per 10 million)\n",
      "        - RM       average number of rooms per dwelling\n",
      "        - AGE      proportion of owner-occupied units built prior to 1940\n",
      "        - DIS      weighted distances to five Boston employment centres\n",
      "        - RAD      index of accessibility to radial highways\n",
      "        - TAX      full-value property-tax rate per $10,000\n",
      "        - PTRATIO  pupil-teacher ratio by town\n",
      "        - B        1000(Bk - 0.63)^2 where Bk is the proportion of blacks by town\n",
      "        - LSTAT    % lower status of the population\n",
      "        - MEDV     Median value of owner-occupied homes in $1000's\n",
      "\n",
      "    :Missing Attribute Values: None\n",
      "\n",
      "    :Creator: Harrison, D. and Rubinfeld, D.L.\n",
      "\n",
      "This is a copy of UCI ML housing dataset.\n",
      "http://archive.ics.uci.edu/ml/datasets/Housing\n",
      "\n",
      "\n",
      "This dataset was taken from the StatLib library which is maintained at Carnegie Mellon University.\n",
      "\n",
      "The Boston house-price data of Harrison, D. and Rubinfeld, D.L. 'Hedonic\n",
      "prices and the demand for clean air', J. Environ. Economics & Management,\n",
      "vol.5, 81-102, 1978.   Used in Belsley, Kuh & Welsch, 'Regression diagnostics\n",
      "...', Wiley, 1980.   N.B. Various transformations are used in the table on\n",
      "pages 244-261 of the latter.\n",
      "\n",
      "The Boston house-price data has been used in many machine learning papers that address regression\n",
      "problems.   \n",
      "     \n",
      "**References**\n",
      "\n",
      "   - Belsley, Kuh & Welsch, 'Regression diagnostics: Identifying Influential Data and Sources of Collinearity', Wiley, 1980. 244-261.\n",
      "   - Quinlan,R. (1993). Combining Instance-Based and Model-Based Learning. In Proceedings on the Tenth International Conference of Machine Learning, 236-243, University of Massachusetts, Amherst. Morgan Kaufmann.\n",
      "   - many more! (see http://archive.ics.uci.edu/ml/datasets/Housing)\n",
      "\n"
     ]
    }
   ],
   "source": [
    "print boston.DESCR"
   ]
  },
  {
   "cell_type": "code",
   "execution_count": 4,
   "metadata": {},
   "outputs": [
    {
     "name": "stdout",
     "output_type": "stream",
     "text": [
      "['CRIM' 'ZN' 'INDUS' 'CHAS' 'NOX' 'RM' 'AGE' 'DIS' 'RAD' 'TAX' 'PTRATIO'\n",
      " 'B' 'LSTAT']\n"
     ]
    }
   ],
   "source": [
    "print boston.feature_names"
   ]
  },
  {
   "cell_type": "code",
   "execution_count": 5,
   "metadata": {},
   "outputs": [
    {
     "name": "stdout",
     "output_type": "stream",
     "text": [
      "(506L, 13L)\n",
      "(506L,)\n"
     ]
    }
   ],
   "source": [
    "print boston.data.shape\n",
    "print boston.target.shape"
   ]
  },
  {
   "cell_type": "code",
   "execution_count": 6,
   "metadata": {},
   "outputs": [],
   "source": [
    "np.set_printoptions(precision=2, linewidth=120, suppress=True, edgeitems=7)"
   ]
  },
  {
   "cell_type": "code",
   "execution_count": 7,
   "metadata": {},
   "outputs": [
    {
     "name": "stdout",
     "output_type": "stream",
     "text": [
      "[[  0.01  18.     2.31   0.     0.54   6.58  65.2    4.09   1.   296.    15.3  396.9    4.98]\n",
      " [  0.03   0.     7.07   0.     0.47   6.42  78.9    4.97   2.   242.    17.8  396.9    9.14]\n",
      " [  0.03   0.     7.07   0.     0.47   7.18  61.1    4.97   2.   242.    17.8  392.83   4.03]\n",
      " [  0.03   0.     2.18   0.     0.46   7.    45.8    6.06   3.   222.    18.7  394.63   2.94]\n",
      " [  0.07   0.     2.18   0.     0.46   7.15  54.2    6.06   3.   222.    18.7  396.9    5.33]\n",
      " [  0.03   0.     2.18   0.     0.46   6.43  58.7    6.06   3.   222.    18.7  394.12   5.21]\n",
      " [  0.09  12.5    7.87   0.     0.52   6.01  66.6    5.56   5.   311.    15.2  395.6   12.43]\n",
      " ...\n",
      " [  0.18   0.     9.69   0.     0.58   5.57  73.5    2.4    6.   391.    19.2  395.77  15.1 ]\n",
      " [  0.22   0.     9.69   0.     0.58   6.03  79.7    2.5    6.   391.    19.2  396.9   14.33]\n",
      " [  0.06   0.    11.93   0.     0.57   6.59  69.1    2.48   1.   273.    21.   391.99   9.67]\n",
      " [  0.05   0.    11.93   0.     0.57   6.12  76.7    2.29   1.   273.    21.   396.9    9.08]\n",
      " [  0.06   0.    11.93   0.     0.57   6.98  91.     2.17   1.   273.    21.   396.9    5.64]\n",
      " [  0.11   0.    11.93   0.     0.57   6.79  89.3    2.39   1.   273.    21.   393.45   6.48]\n",
      " [  0.05   0.    11.93   0.     0.57   6.03  80.8    2.5    1.   273.    21.   396.9    7.88]]\n"
     ]
    }
   ],
   "source": [
    "print boston.data"
   ]
  },
  {
   "cell_type": "code",
   "execution_count": 8,
   "metadata": {},
   "outputs": [],
   "source": [
    "# In order to do multiple regression we need to add a column of 1s for x0\n",
    "x = np.array([np.concatenate((v,[1])) for v in boston.data])\n",
    "y = boston.target"
   ]
  },
  {
   "cell_type": "code",
   "execution_count": 9,
   "metadata": {},
   "outputs": [
    {
     "name": "stdout",
     "output_type": "stream",
     "text": [
      "[[  0.01  18.     2.31   0.     0.54   6.58  65.2    4.09   1.   296.    15.3  396.9    4.98   1.  ]\n",
      " [  0.03   0.     7.07   0.     0.47   6.42  78.9    4.97   2.   242.    17.8  396.9    9.14   1.  ]\n",
      " [  0.03   0.     7.07   0.     0.47   7.18  61.1    4.97   2.   242.    17.8  392.83   4.03   1.  ]\n",
      " [  0.03   0.     2.18   0.     0.46   7.    45.8    6.06   3.   222.    18.7  394.63   2.94   1.  ]\n",
      " [  0.07   0.     2.18   0.     0.46   7.15  54.2    6.06   3.   222.    18.7  396.9    5.33   1.  ]\n",
      " [  0.03   0.     2.18   0.     0.46   6.43  58.7    6.06   3.   222.    18.7  394.12   5.21   1.  ]\n",
      " [  0.09  12.5    7.87   0.     0.52   6.01  66.6    5.56   5.   311.    15.2  395.6   12.43   1.  ]\n",
      " [  0.14  12.5    7.87   0.     0.52   6.17  96.1    5.95   5.   311.    15.2  396.9   19.15   1.  ]\n",
      " [  0.21  12.5    7.87   0.     0.52   5.63 100.     6.08   5.   311.    15.2  386.63  29.93   1.  ]\n",
      " [  0.17  12.5    7.87   0.     0.52   6.    85.9    6.59   5.   311.    15.2  386.71  17.1    1.  ]]\n"
     ]
    }
   ],
   "source": [
    "# First 10 elements of the data\n",
    "print x[:10]"
   ]
  },
  {
   "cell_type": "code",
   "execution_count": 10,
   "metadata": {},
   "outputs": [
    {
     "name": "stdout",
     "output_type": "stream",
     "text": [
      "[24.  21.6 34.7 33.4 36.2 28.7 22.9 27.1 16.5 18.9]\n"
     ]
    }
   ],
   "source": [
    "# First 10 elements of the response variable\n",
    "print y[:10]"
   ]
  },
  {
   "cell_type": "code",
   "execution_count": 11,
   "metadata": {},
   "outputs": [
    {
     "data": {
      "text/plain": [
       "LinearRegression(copy_X=True, fit_intercept=True, n_jobs=1, normalize=False)"
      ]
     },
     "execution_count": 11,
     "metadata": {},
     "output_type": "execute_result"
    }
   ],
   "source": [
    "# Create linear regression object\n",
    "linreg = LinearRegression()\n",
    "\n",
    "# Train the model using the training sets\n",
    "linreg.fit(x,y)\n"
   ]
  },
  {
   "cell_type": "code",
   "execution_count": 12,
   "metadata": {},
   "outputs": [
    {
     "name": "stdout",
     "output_type": "stream",
     "text": [
      "[30.01 25.03 30.57 28.61 27.94 25.26 23.   19.53 11.52 18.92]\n"
     ]
    }
   ],
   "source": [
    "# Let's see predictions for the first 10 instances\n",
    "print linreg.predict(x[:10])"
   ]
  },
  {
   "cell_type": "code",
   "execution_count": 13,
   "metadata": {},
   "outputs": [
    {
     "name": "stdout",
     "output_type": "stream",
     "text": [
      "[6.01 3.43 4.13 4.79 8.26 3.44 0.1  7.57 4.98 0.02]\n"
     ]
    }
   ],
   "source": [
    "# Compute RMSE on training data\n",
    "p = linreg.predict(x)\n",
    "\n",
    "# Now we can constuct a vector of errors\n",
    "err = abs(p-y)\n",
    "\n",
    "# Let's see the error on the first 10 predictions\n",
    "print err[:10]"
   ]
  },
  {
   "cell_type": "code",
   "execution_count": 14,
   "metadata": {},
   "outputs": [
    {
     "name": "stdout",
     "output_type": "stream",
     "text": [
      "4.67950630064\n"
     ]
    }
   ],
   "source": [
    "# Dot product of error vector with itself gives us the sum of squared errors\n",
    "total_error = np.dot(err,err)\n",
    "\n",
    "# Compute RMSE\n",
    "rmse_train = np.sqrt(total_error/len(p))\n",
    "print rmse_train"
   ]
  },
  {
   "cell_type": "code",
   "execution_count": 15,
   "metadata": {},
   "outputs": [
    {
     "name": "stdout",
     "output_type": "stream",
     "text": [
      "Regression Coefficients: \n",
      "[ -0.11   0.05   0.02   2.69 -17.8    3.8    0.    -1.48   0.31  -0.01  -0.95   0.01  -0.53   0.  ]\n"
     ]
    }
   ],
   "source": [
    "# We can view the regression coefficients\n",
    "print 'Regression Coefficients: \\n', linreg.coef_"
   ]
  },
  {
   "cell_type": "code",
   "execution_count": 18,
   "metadata": {},
   "outputs": [
    {
     "data": {
      "image/png": "[encoded data removed]",
      "text/plain": [
       "<matplotlib.figure.Figure at 0x9fc7c50>"
      ]
     },
     "metadata": {},
     "output_type": "display_data"
    }
   ],
   "source": [
    "%matplotlib inline\n",
    "def plot_coefficients(model, n_features, feature_names):\n",
    "    pl.barh(range(n_features), model.coef_[:-1], align='center')\n",
    "    pl.yticks(np.arange(n_features), feature_names)\n",
    "    pl.xlabel(\"Coefficient Value\")\n",
    "    pl.ylabel(\"Feature\")\n",
    "    pl.ylim(-1, n_features)\n",
    "\n",
    "plot_coefficients(linreg, len(boston.feature_names), boston.feature_names)"
   ]
  },
  {
   "cell_type": "code",
   "execution_count": 19,
   "metadata": {},
   "outputs": [
    {
     "name": "stdout",
     "output_type": "stream",
     "text": [
      "36.4911032804\n"
     ]
    }
   ],
   "source": [
    "print linreg.intercept_"
   ]
  },
  {
   "cell_type": "code",
   "execution_count": 20,
   "metadata": {},
   "outputs": [
    {
     "data": {
      "image/png": "[encoded data removed]",
      "text/plain": [
       "<matplotlib.figure.Figure at 0xa11ea90>"
      ]
     },
     "metadata": {},
     "output_type": "display_data"
    }
   ],
   "source": [
    "# Plot outputs\n",
    "%matplotlib inline\n",
    "pl.plot(p, y,'ro')\n",
    "pl.plot([0,50],[0,50], 'g-')\n",
    "pl.xlabel('predicted')\n",
    "pl.ylabel('real')\n",
    "pl.show()\n"
   ]
  },
  {
   "cell_type": "code",
   "execution_count": 21,
   "metadata": {
    "collapsed": true
   },
   "outputs": [],
   "source": [
    "# Now let's compute RMSE using 10-fold x-validation\n",
    "n = 10\n",
    "kf = KFold(len(x), n_folds=n)\n",
    "xval_err = 0\n",
    "for train,test in kf:\n",
    "    linreg.fit(x[train],y[train])\n",
    "    p = linreg.predict(x[test])\n",
    "    e = p-y[test]\n",
    "    xval_err += np.sqrt(np.dot(e,e)/len(x[test]))\n",
    "       \n",
    "rmse_10cv = xval_err/n"
   ]
  },
  {
   "cell_type": "code",
   "execution_count": 22,
   "metadata": {},
   "outputs": [
    {
     "name": "stdout",
     "output_type": "stream",
     "text": [
      "Method: Simple Linear Regression\n",
      "RMSE on training: 4.6795\n",
      "RMSE on 10-fold CV: 5.1856\n"
     ]
    }
   ],
   "source": [
    "method_name = 'Simple Linear Regression'\n",
    "print('Method: %s' %method_name)\n",
    "print('RMSE on training: %.4f' %rmse_train)\n",
    "print('RMSE on 10-fold CV: %.4f' %rmse_10cv)"
   ]
  },
  {
   "cell_type": "markdown",
   "metadata": {},
   "source": [
    "#### Let's try Ridge Regression:"
   ]
  },
  {
   "cell_type": "code",
   "execution_count": 23,
   "metadata": {},
   "outputs": [
    {
     "data": {
      "text/plain": [
       "Ridge(alpha=0.5, copy_X=True, fit_intercept=True, max_iter=None,\n",
       "   normalize=False, random_state=None, solver='auto', tol=0.001)"
      ]
     },
     "execution_count": 23,
     "metadata": {},
     "output_type": "execute_result"
    }
   ],
   "source": [
    "# Create linear regression object with a ridge coefficient 0.5\n",
    "ridge = Ridge(fit_intercept=True, alpha=0.5)\n",
    "\n",
    "# Train the model using the training set\n",
    "ridge.fit(x,y)"
   ]
  },
  {
   "cell_type": "code",
   "execution_count": 24,
   "metadata": {},
   "outputs": [
    {
     "name": "stdout",
     "output_type": "stream",
     "text": [
      "Method: Ridge Regression\n",
      "RMSE on training: 4.6857\n",
      "RMSE on 10-fold CV: 4.3434\n"
     ]
    }
   ],
   "source": [
    "# Compute RMSE on training data\n",
    "p = ridge.predict(x)\n",
    "err = p-y\n",
    "total_error = np.dot(err,err)\n",
    "rmse_train = np.sqrt(total_error/len(p))\n",
    "\n",
    "# Compute RMSE using 10-fold x-validation\n",
    "\n",
    "n = 10\n",
    "kf = KFold(len(x), n_folds=n)\n",
    "xval_err = 0\n",
    "for train,test in kf:\n",
    "    ridge.fit(x[train],y[train])\n",
    "    p = linreg.predict(x[test])\n",
    "    e = p-y[test]\n",
    "    xval_err += np.sqrt(np.dot(e,e)/len(x[test]))\n",
    "rmse_10cv = xval_err/n\n",
    "\n",
    "method_name = 'Ridge Regression'\n",
    "print('Method: %s' %method_name)\n",
    "print('RMSE on training: %.4f' %rmse_train)\n",
    "print('RMSE on 10-fold CV: %.4f' %rmse_10cv)"
   ]
  },
  {
   "cell_type": "markdown",
   "metadata": {},
   "source": [
    "#### We can try different values of alpha and observe the impact on x-validation RMSE"
   ]
  },
  {
   "cell_type": "code",
   "execution_count": 25,
   "metadata": {},
   "outputs": [
    {
     "name": "stdout",
     "output_type": "stream",
     "text": [
      "Ridge Regression\n",
      "alpha\t RMSE_train\t RMSE_10cv\n",
      "\n",
      "0.010\t 4.6795\t\t 5.1835\n",
      "0.418\t 4.6842\t\t 5.1291\n",
      "0.826\t 4.6921\t\t 5.1056\n",
      "1.234\t 4.7000\t\t 5.0938\n",
      "1.642\t 4.7070\t\t 5.0871\n",
      "2.050\t 4.7133\t\t 5.0829\n",
      "2.458\t 4.7187\t\t 5.0800\n",
      "2.866\t 4.7234\t\t 5.0778\n",
      "3.274\t 4.7276\t\t 5.0761\n",
      "3.682\t 4.7313\t\t 5.0747\n",
      "4.090\t 4.7346\t\t 5.0734\n",
      "4.498\t 4.7375\t\t 5.0722\n",
      "4.906\t 4.7402\t\t 5.0710\n",
      "5.313\t 4.7426\t\t 5.0700\n",
      "5.721\t 4.7448\t\t 5.0689\n",
      "6.129\t 4.7469\t\t 5.0679\n",
      "6.537\t 4.7488\t\t 5.0669\n",
      "6.945\t 4.7505\t\t 5.0659\n",
      "7.353\t 4.7522\t\t 5.0650\n",
      "7.761\t 4.7537\t\t 5.0640\n",
      "8.169\t 4.7552\t\t 5.0631\n",
      "8.577\t 4.7565\t\t 5.0622\n",
      "8.985\t 4.7578\t\t 5.0613\n",
      "9.393\t 4.7591\t\t 5.0604\n",
      "9.801\t 4.7603\t\t 5.0595\n",
      "10.209\t 4.7614\t\t 5.0587\n",
      "10.617\t 4.7625\t\t 5.0578\n",
      "11.025\t 4.7635\t\t 5.0570\n",
      "11.433\t 4.7646\t\t 5.0562\n",
      "11.841\t 4.7655\t\t 5.0554\n",
      "12.249\t 4.7665\t\t 5.0546\n",
      "12.657\t 4.7674\t\t 5.0538\n",
      "13.065\t 4.7683\t\t 5.0531\n",
      "13.473\t 4.7692\t\t 5.0523\n",
      "13.881\t 4.7700\t\t 5.0516\n",
      "14.289\t 4.7708\t\t 5.0509\n",
      "14.697\t 4.7717\t\t 5.0502\n",
      "15.104\t 4.7724\t\t 5.0495\n",
      "15.512\t 4.7732\t\t 5.0488\n",
      "15.920\t 4.7740\t\t 5.0482\n",
      "16.328\t 4.7747\t\t 5.0475\n",
      "16.736\t 4.7755\t\t 5.0469\n",
      "17.144\t 4.7762\t\t 5.0462\n",
      "17.552\t 4.7769\t\t 5.0456\n",
      "17.960\t 4.7776\t\t 5.0450\n",
      "18.368\t 4.7783\t\t 5.0444\n",
      "18.776\t 4.7790\t\t 5.0439\n",
      "19.184\t 4.7797\t\t 5.0433\n",
      "19.592\t 4.7804\t\t 5.0427\n",
      "20.000\t 4.7811\t\t 5.0422\n"
     ]
    }
   ],
   "source": [
    "print('Ridge Regression')\n",
    "print('alpha\\t RMSE_train\\t RMSE_10cv\\n')\n",
    "alpha = np.linspace(.01,20,50)\n",
    "t_rmse = np.array([])\n",
    "cv_rmse = np.array([])\n",
    "\n",
    "for a in alpha:\n",
    "    ridge = Ridge(alpha=a)\n",
    "    \n",
    "    # computing the RMSE on training data\n",
    "    ridge.fit(x,y)\n",
    "    p = ridge.predict(x)\n",
    "    err = p-y\n",
    "    total_error = np.dot(err,err)\n",
    "    rmse_train = np.sqrt(total_error/len(p))\n",
    "\n",
    "    # computing RMSE using 10-fold cross validation\n",
    "    kf = KFold(len(x), n_folds=10)\n",
    "    xval_err = 0\n",
    "    for train, test in kf:\n",
    "        ridge.fit(x[train], y[train])\n",
    "        p = ridge.predict(x[test])\n",
    "        err = p - y[test]\n",
    "        xval_err += np.sqrt(np.dot(err,err)/len(x[test]))\n",
    "    rmse_10cv = xval_err/n\n",
    "    \n",
    "    t_rmse = np.append(t_rmse, [rmse_train])\n",
    "    cv_rmse = np.append(cv_rmse, [rmse_10cv])\n",
    "    print('{:.3f}\\t {:.4f}\\t\\t {:.4f}'.format(a,rmse_train,rmse_10cv))"
   ]
  },
  {
   "cell_type": "code",
   "execution_count": 26,
   "metadata": {},
   "outputs": [
    {
     "data": {
      "image/png": "[encoded data removed]",
      "text/plain": [
       "<matplotlib.figure.Figure at 0xa565630>"
      ]
     },
     "metadata": {},
     "output_type": "display_data"
    }
   ],
   "source": [
    "pl.plot(alpha, t_rmse, label='RMSE-Train')\n",
    "pl.plot(alpha, cv_rmse, label='RMSE_XVal')\n",
    "pl.legend( ('RMSE-Train', 'RMSE_XVal') )\n",
    "pl.ylabel('RMSE')\n",
    "pl.xlabel('Alpha')\n",
    "pl.show()"
   ]
  },
  {
   "cell_type": "markdown",
   "metadata": {},
   "source": [
    "#### To make comparisons across methods easier, let's parametrize the regression methods:"
   ]
  },
  {
   "cell_type": "code",
   "execution_count": 27,
   "metadata": {},
   "outputs": [
    {
     "name": "stdout",
     "output_type": "stream",
     "text": [
      "Method: linear regression\n",
      "RMSE on training: 4.6795\n",
      "RMSE on 10-fold CV: 5.8819\n",
      "\n",
      "\n",
      "Method: lasso\n",
      "RMSE on training: 4.8570\n",
      "RMSE on 10-fold CV: 5.7675\n",
      "\n",
      "\n",
      "Method: ridge\n",
      "RMSE on training: 4.6822\n",
      "RMSE on 10-fold CV: 5.8535\n",
      "\n",
      "\n",
      "Method: elastic-net\n",
      "RMSE on training: 4.9072\n",
      "RMSE on 10-fold CV: 5.4936\n",
      "\n",
      "\n"
     ]
    }
   ],
   "source": [
    "a = 0.3\n",
    "for name,met in [\n",
    "        ('linear regression', LinearRegression()),\n",
    "        ('lasso', Lasso(fit_intercept=True, alpha=a)),\n",
    "        ('ridge', Ridge(fit_intercept=True, alpha=a)),\n",
    "        ('elastic-net', ElasticNet(fit_intercept=True, alpha=a))\n",
    "        ]:\n",
    "    met.fit(x,y)\n",
    "    p = met.predict(x)\n",
    "    e = p-y\n",
    "    total_error = np.dot(e,e)\n",
    "    rmse_train = np.sqrt(total_error/len(p))\n",
    "\n",
    "    kf = KFold(len(x), n_folds=10)\n",
    "    err = 0\n",
    "    for train,test in kf:\n",
    "        met.fit(x[train],y[train])\n",
    "        p = met.predict(x[test])\n",
    "        e = p-y[test]\n",
    "        err += np.dot(e,e)\n",
    "    rmse_10cv = np.sqrt(err/len(x))\n",
    "    \n",
    "    print('Method: %s' %name)\n",
    "    print('RMSE on training: %.4f' %rmse_train)\n",
    "    print('RMSE on 10-fold CV: %.4f' %rmse_10cv)\n",
    "    print \"\\n\""
   ]
  },
  {
   "cell_type": "markdown",
   "metadata": {},
   "source": [
    "#### Now let's try to do regression via Stochastic Gradient Descent."
   ]
  },
  {
   "cell_type": "code",
   "execution_count": 28,
   "metadata": {},
   "outputs": [
    {
     "name": "stdout",
     "output_type": "stream",
     "text": [
      "Method: Stochastic Gradient Descent Regression\n",
      "RMSE on training: 4.7638\n",
      "RMSE on 10-fold CV: 5.6160\n"
     ]
    }
   ],
   "source": [
    "# SGD is very senstitive to varying-sized feature values. So, first we need to do feature scaling.\n",
    "\n",
    "from sklearn.preprocessing import StandardScaler\n",
    "\n",
    "scaler = StandardScaler()\n",
    "scaler.fit(x)\n",
    "x_s = scaler.transform(x)\n",
    "\n",
    "sgdreg = SGDRegressor(penalty='l2', alpha=0.1, n_iter=300)\n",
    "\n",
    "# Compute RMSE on training data\n",
    "sgdreg.fit(x_s,y)\n",
    "p = sgdreg.predict(x_s)\n",
    "err = p-y\n",
    "total_error = np.dot(err,err)\n",
    "rmse_train = np.sqrt(total_error/len(p))\n",
    "\n",
    "# Compute RMSE using 10-fold x-validation\n",
    "kf = KFold(len(x), n_folds=10)\n",
    "xval_err = 0\n",
    "for train,test in kf:\n",
    "    scaler = StandardScaler()\n",
    "    scaler.fit(x[train])  # Don't cheat - fit only on training data\n",
    "    xtrain_s = scaler.transform(x[train])\n",
    "    xtest_s = scaler.transform(x[test])  # apply same transformation to test data\n",
    "    sgdreg.fit(xtrain_s,y[train])\n",
    "    p = sgdreg.predict(xtest_s)\n",
    "    e = p-y[test]\n",
    "    xval_err += np.dot(e,e)\n",
    "rmse_10cv = np.sqrt(xval_err/len(x))\n",
    "\n",
    "method_name = 'Stochastic Gradient Descent Regression'\n",
    "print('Method: %s' %method_name)\n",
    "print('RMSE on training: %.4f' %rmse_train)\n",
    "print('RMSE on 10-fold CV: %.4f' %rmse_10cv)"
   ]
  },
  {
   "cell_type": "markdown",
   "metadata": {},
   "source": [
    "#### Using the regression implementation from Machine Learning in Action, Chapter 8:"
   ]
  },
  {
   "cell_type": "code",
   "execution_count": 29,
   "metadata": {
    "collapsed": true
   },
   "outputs": [],
   "source": [
    "def standRegres(xArr,yArr):\n",
    "    xMat = np.mat(xArr); yMat = np.mat(yArr).T\n",
    "    xTx = xMat.T*xMat\n",
    "    if np.linalg.det(xTx) == 0.0:\n",
    "        print \"This matrix is singular, cannot do inverse\"\n",
    "        return\n",
    "    ws = xTx.I * (xMat.T*yMat)\n",
    "    return ws"
   ]
  },
  {
   "cell_type": "code",
   "execution_count": 30,
   "metadata": {
    "collapsed": true
   },
   "outputs": [],
   "source": [
    "w = standRegres(x,y)"
   ]
  },
  {
   "cell_type": "code",
   "execution_count": 31,
   "metadata": {},
   "outputs": [
    {
     "name": "stdout",
     "output_type": "stream",
     "text": [
      "[[ -0.11]\n",
      " [  0.05]\n",
      " [  0.02]\n",
      " [  2.69]\n",
      " [-17.8 ]\n",
      " [  3.8 ]\n",
      " [  0.  ]\n",
      " [ -1.48]\n",
      " [  0.31]\n",
      " [ -0.01]\n",
      " [ -0.95]\n",
      " [  0.01]\n",
      " [ -0.53]\n",
      " [ 36.49]]\n"
     ]
    }
   ],
   "source": [
    "print w"
   ]
  },
  {
   "cell_type": "code",
   "execution_count": 32,
   "metadata": {
    "collapsed": true
   },
   "outputs": [],
   "source": [
    "def ridgeRegres(xArr,yArr,lam=0.2):\n",
    "    xMat = np.mat(xArr); yMat = np.mat(yArr).T\n",
    "    xTx = xMat.T*xMat\n",
    "    denom = xTx + np.eye(np.shape(xMat)[1])*lam\n",
    "    if np.linalg.det(denom) == 0.0:\n",
    "        print \"This matrix is singular, cannot do inverse\"\n",
    "        return\n",
    "    ws = denom.I * (xMat.T*yMat)\n",
    "    return ws"
   ]
  },
  {
   "cell_type": "code",
   "execution_count": 33,
   "metadata": {},
   "outputs": [
    {
     "name": "stdout",
     "output_type": "stream",
     "text": [
      "[[ -0.1 ]\n",
      " [  0.05]\n",
      " [ -0.  ]\n",
      " [  2.68]\n",
      " [ -9.55]\n",
      " [  4.55]\n",
      " [ -0.  ]\n",
      " [ -1.26]\n",
      " [  0.25]\n",
      " [ -0.01]\n",
      " [ -0.73]\n",
      " [  0.01]\n",
      " [ -0.49]\n",
      " [ 21.78]]\n"
     ]
    }
   ],
   "source": [
    "w_ridge = ridgeRegres(x,y,0.5)\n",
    "print w_ridge"
   ]
  },
  {
   "cell_type": "markdown",
   "metadata": {},
   "source": [
    "#### Now that we have the regression coefficients, we can compute the predictions:"
   ]
  },
  {
   "cell_type": "code",
   "execution_count": 34,
   "metadata": {
    "collapsed": true
   },
   "outputs": [],
   "source": [
    "xMat=np.mat(x)\n",
    "yMat=np.mat(y)\n",
    "yHat = xMat*w_ridge"
   ]
  },
  {
   "cell_type": "code",
   "execution_count": 35,
   "metadata": {},
   "outputs": [
    {
     "data": {
      "text/plain": [
       "(506L, 1L)"
      ]
     },
     "execution_count": 35,
     "metadata": {},
     "output_type": "execute_result"
    }
   ],
   "source": [
    "yHat.shape"
   ]
  },
  {
   "cell_type": "code",
   "execution_count": 36,
   "metadata": {},
   "outputs": [
    {
     "name": "stdout",
     "output_type": "stream",
     "text": [
      "[[ 29.81]\n",
      " [ 24.75]\n",
      " [ 30.78]\n",
      " [ 29.12]\n",
      " [ 28.61]\n",
      " [ 25.35]\n",
      " [ 22.48]\n",
      " [ 19.28]\n",
      " [ 11.21]\n",
      " [ 18.65]]\n"
     ]
    }
   ],
   "source": [
    "print yHat[0:10]"
   ]
  },
  {
   "cell_type": "code",
   "execution_count": 37,
   "metadata": {},
   "outputs": [
    {
     "name": "stdout",
     "output_type": "stream",
     "text": [
      "[[ 24. ]\n",
      " [ 21.6]\n",
      " [ 34.7]\n",
      " [ 33.4]\n",
      " [ 36.2]\n",
      " [ 28.7]\n",
      " [ 22.9]\n",
      " [ 27.1]\n",
      " [ 16.5]\n",
      " [ 18.9]]\n"
     ]
    }
   ],
   "source": [
    "print yMat.T[0:10]"
   ]
  },
  {
   "cell_type": "markdown",
   "metadata": {},
   "source": [
    "#### Model evaluation and cross validation can be performed as before."
   ]
  },
  {
   "cell_type": "code",
   "execution_count": 38,
   "metadata": {},
   "outputs": [
    {
     "data": {
      "text/plain": [
       "array([ 29.81,  24.75,  30.78,  29.12,  28.61,  25.35,  22.48,  19.28,  11.21,  18.65,  19.03,  21.15,  20.51,  20.15,\n",
       "        19.84,  19.8 ,  21.17,  17.52,  16.22,  18.68,  12.82,  18.15,  16.6 ,  14.34,  16.27,  13.61,  15.97,  15.28,\n",
       "        20.45,  21.86,  11.99,  18.54,   9.43,  14.57,  14.1 ,  23.35,  21.87,  22.83,  22.8 ,  31.37,  34.5 ,  28.21,\n",
       "        24.95,  24.47,  22.57,  21.38,  19.91,  17.7 ,   8.69,  16.69,  20.87,  23.44,  27.52,  23.63,  16.1 ,  32.02,\n",
       "        25.3 ,  32.9 ,  22.18,  21.13,  17.87,  18.44,  24.3 ,  23.48,  24.42,  29.71,  24.62,  20.81,  16.99,  20.45,\n",
       "        24.99,  21.23,  24.06,  23.72,  25.05,  23.41,  22.21,  22.65,  20.85,  21.65,  28.49,  26.86,  25.86,  24.72,\n",
       "        24.63,  27.58,  21.78,  25.22,  30.6 ,  30.94,  26.74,  26.97,  28.33,  28.37,  26.23,  28.09,  24.01,  36.23,\n",
       "        35.56,  32.35,  25.09,  26.15,  19.35,  20.46,  21.48,  18.39,  17.15,  20.78,  22.89,  19.99,  21.01,  26.49,\n",
       "        20.21,  20.34,  24.68,  19.8 ,  23.06,  23.15,  19.72,  20.24,  21.62,  22.16,  20.26,  16.16,  20.16,  22.12,\n",
       "        14.24,  15.6 ,  19.85,  14.53,  20.94,  20.25,  20.88,  16.35,  13.56,  18.22,  16.49,  20.26,  14.45,  17.22,\n",
       "        14.54,   4.39,  15.54,  13.16,   9.4 ,  13.09,  16.15,   9.24,  10.54,  15.7 ,  21.92,  18.74,  20.29,  17.88,\n",
       "        23.4 ,  20.74,  13.58,  32.49,  27.61,  26.72,  31.4 ,  36.4 ,  40.43,  42.23,  23.67,  24.01,  37.2 ,  21.7 ,\n",
       "        25.3 ,  25.74,  21.3 ,  23.06,  21.69,  28.26,  25.4 ,  30.25,  24.94,  28.36,  30.98,  32.73,  35.04,  27.03,\n",
       "        33.61,  30.32,  21.65,  24.25,  36.41,  32.51,  31.48,  34.05,  30.59,  29.92,  32.84,  31.8 ,  31.  ,  40.83,\n",
       "        35.66,  32.11,  34.28,  30.6 ,  31.24,  28.41,  37.25,  41.87,  43.13,  22.35,  23.59,  17.47,  23.23,  16.22,\n",
       "        21.91,  16.36,  22.25,  25.11,  10.92,  24.23,  25.84,  27.95,  24.1 ,  29.05,  32.76,  23.18,  31.82,  29.16,\n",
       "        38.77,  40.54,  37.81,  32.09,  35.83,  30.75,  23.64,  33.25,  38.71,  37.76,  31.29,  24.53,  29.77,  32.81,\n",
       "        27.97,  27.98,  27.17,  23.01,  23.71,  27.07,  16.  ,  13.35,  20.25,  19.94,  21.61,  24.73,  24.6 ,  25.3 ,\n",
       "        25.93,  31.94,  23.9 ,  21.61,  37.41,  44.16,  36.35,  34.51,  34.8 ,  37.27,  41.72,  34.51,  35.68,  27.12,\n",
       "        31.22,  41.11,  39.03,  25.15,  21.9 ,  27.03,  28.25,  36.16,  35.68,  33.42,  35.7 ,  34.68,  29.87,  34.3 ,\n",
       "        38.43,  33.64,  39.99,  44.55,  31.75,  26.89,  20.52,  26.45,  26.64,  26.65,  33.49,  34.68,  31.78,  24.86,\n",
       "        23.32,  27.87,  26.6 ,  18.54,  28.4 ,  31.77,  30.39,  28.3 ,  28.24,  32.41,  33.48,  30.41,  35.59,  32.37,\n",
       "        28.63,  23.24,  17.54,  26.55,  22.9 ,  25.35,  25.61,  20.22,  17.65,  18.32,  24.41,  21.47,  25.07,  25.  ,\n",
       "        22.84,  19.16,  25.37,  25.18,  24.07,  19.7 ,  20.66,  24.03,  21.34,  19.63,  23.03,  23.  ,  22.44,  21.27,\n",
       "        20.52,  19.7 ,  22.58,  21.6 ,  21.69,  30.66,  22.49,  28.01,  29.2 ,  16.92,  15.07,  25.87,  27.99,  23.62,\n",
       "        21.56,  21.56,  17.59,  26.34,  15.63,  18.02,  20.7 ,  23.88,  23.22,  20.2 ,  23.65,  19.89,  18.39,  20.8 ,\n",
       "        39.57,  12.47,  14.91,   8.22,  22.11,  32.26,  34.45,  24.36,  25.44,   5.78,   0.01,  26.18,  18.37,  20.91,\n",
       "        16.41,  17.16,  15.71,  19.04,  13.52,  13.16,   2.6 ,   8.23,   5.81,   5.74,   6.28,  14.13,  17.3 ,  17.77,\n",
       "         9.76,  20.55,  18.11,  20.85,  19.86,  16.41,   6.96,  11.35,  12.48,  18.38,  18.81,  12.92,   7.72,   8.73,\n",
       "         6.72,  19.24,  12.9 ,  19.5 ,  13.63,  16.2 ,  -0.09,  10.41,  -4.93,   9.67,  13.59,   6.36,   6.01,  15.21,\n",
       "        20.12,  18.36,  17.62,  12.28,  12.99,   9.44,  14.98,  13.77,  14.13,  12.99,  17.2 ,  18.14,  20.55,  17.22,\n",
       "        15.95,  14.13,  14.82,   9.07,   5.37,  13.62,  13.48,  18.33,  19.51,  19.1 ,  11.96,  13.46,  18.45,  18.99,\n",
       "        18.18,  17.87,  16.75,  20.31,  19.3 ,  23.99,  15.6 ,  16.05,  12.48,  12.67,  17.79,  19.14,  19.82,  20.93,\n",
       "        20.57,  23.21,  20.68,  17.89,  13.71,  16.42,  16.64,  18.08,  19.87,  22.2 ,  22.3 ,  25.95,  15.38,  15.66,\n",
       "        20.63,  10.87,  19.01,  21.58,  22.86,  26.68,  28.37,  20.35,  19.18,  22.24,  19.44,  20.88,  11.87,   8.24,\n",
       "         3.59,  14.13,  16.3 ,  20.59,  20.86,  17.23,  14.03,  19.23,  21.47,  18.32,  20.64,  24.45,  22.85,  28.52,\n",
       "        26.97,  22.74])"
      ]
     },
     "execution_count": 38,
     "metadata": {},
     "output_type": "execute_result"
    }
   ],
   "source": [
    "yHat.A.ravel()"
   ]
  },
  {
   "cell_type": "code",
   "execution_count": 39,
   "metadata": {},
   "outputs": [
    {
     "data": {
      "text/plain": [
       "(506L, 1L)"
      ]
     },
     "execution_count": 39,
     "metadata": {},
     "output_type": "execute_result"
    }
   ],
   "source": [
    "yHat.A.shape"
   ]
  },
  {
   "cell_type": "code",
   "execution_count": null,
   "metadata": {
    "collapsed": true
   },
   "outputs": [],
   "source": []
  }
 ],
 "metadata": {
  "kernelspec": {
   "display_name": "Python 2",
   "language": "python",
   "name": "python2"
  },
  "language_info": {
   "codemirror_mode": {
    "name": "ipython",
    "version": 2
   },
   "file_extension": ".py",
   "mimetype": "text/x-python",
   "name": "python",
   "nbconvert_exporter": "python",
   "pygments_lexer": "ipython2",
   "version": "2.7.15"
  }
 },
 "nbformat": 4,
 "nbformat_minor": 1
}
